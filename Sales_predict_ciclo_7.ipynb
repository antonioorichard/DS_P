{
  "cells": [
    {
      "cell_type": "markdown",
      "metadata": {
        "id": "tGwoCO9nwswP"
      },
      "source": [
        "# 0.0 Imports"
      ]
    },
    {
      "cell_type": "code",
      "execution_count": null,
      "metadata": {
        "id": "aL075jzfwswS"
      },
      "outputs": [],
      "source": [
        "#!pip install inflection\n",
        "#!pip install boruta\n",
        "import pandas                           as pd\n",
        "import inflection\n",
        "import math\n",
        "import numpy                            as np\n",
        "import pickle\n",
        "import warnings\n",
        "\n",
        "import random\n",
        "\n",
        "import xgboost as xgb\n",
        "from scipy                import stats  as ss\n",
        "import seaborn                          as sns\n",
        "import matplotlib.pyplot                as plt\n",
        "from boruta import BorutaPy\n",
        "\n",
        "from IPython.core.display import HTML\n",
        "from IPython.display      import Image\n",
        "\n",
        "from sklearn.preprocessing import RobustScaler, MinMaxScaler, LabelEncoder\n",
        "from tabulate import tabulate\n",
        "\n",
        "from sklearn.metrics import mean_absolute_error, mean_squared_error\n",
        "from sklearn.ensemble import RandomForestRegressor\n",
        "\n",
        "from sklearn.linear_model import LinearRegression, Lasso\n",
        "\n",
        "warnings.filterwarnings( 'ignore' )"
      ]
    },
    {
      "cell_type": "markdown",
      "metadata": {
        "id": "MMzCBWmZwswX"
      },
      "source": [
        "## 0.1 Loading data"
      ]
    },
    {
      "cell_type": "markdown",
      "metadata": {
        "id": "pRLxzo_VwswX"
      },
      "source": [
        "**Dataset Description**\n",
        "\n",
        "You are provided with historical sales data for 1,115 Rossmann stores. The task is to forecast the \"Sales\" column for the test set. Note that some stores in the dataset were temporarily closed for refurbishment.\n",
        "\n",
        "Files\n",
        "\n",
        "* train.csv - historical data including Sales\n",
        "\n",
        "* test.csv - historical data excluding Sales\n",
        "\n",
        "* sample_submission.csv - a sample submission file in the correct format\n",
        "\n",
        "* store.csv - supplemental information about the stores\n",
        "\n",
        "* Data fields\n",
        "\n",
        "* Most of the fields are self-explanatory. The following are descriptions for those that aren't.\n",
        "\n",
        "* Id - an Id that represents a (Store, Date) duple within the test set\n",
        "\n",
        "* Store - a unique Id for each store\n",
        "\n",
        "* Sales - the turnover for any given day (this is what you are predicting)\n",
        "\n",
        "* Customers - the number of customers on a given day\n",
        "\n",
        "* Open - an indicator for whether the store was open: 0 = closed, 1 = open\n",
        "\n",
        "* StateHoliday - indicates a state holiday. Normally all stores, with few exceptions, are closed on state holidays. Note that all schools are closed on\n",
        "\n",
        "* public holidays and weekends. a = public holiday, b = Easter holiday, c = Christmas, 0 = None\n",
        "\n",
        "* SchoolHoliday - indicates if the (Store, Date) was affected by the closure of public schools\n",
        "\n",
        "* StoreType - differentiates between 4 different store models: a, b, c, d\n",
        "\n",
        "* Assortment - describes an assortment level: a = basic, b = extra, c = extended\n",
        "\n",
        "* CompetitionDistance - distance in meters to the nearest competitor store\n",
        "\n",
        "* CompetitionOpenSince[Month/Year] - gives the approximate year and month of the time the nearest competitor was opened\n",
        "\n",
        "* Promo - indicates whether a store is running a promo on that day\n",
        "\n",
        "* Promo2 - Promo2 is a continuing and consecutive promotion for some stores: 0 = store is not participating, 1 = store is participating\n",
        "\n",
        "* Promo2Since[Year/Week] - describes the year and calendar week when the store started participating in Promo2\n",
        "\n",
        "* PromoInterval - describes the consecutive intervals Promo2 is started, naming the months the promotion is started anew. E.g. \"Feb,May,Aug,Nov\" means each round starts in February, May, August, November of any given year for that store\n"
      ]
    },
    {
      "cell_type": "code",
      "execution_count": null,
      "metadata": {
        "id": "_4xu9SRJwswZ"
      },
      "outputs": [],
      "source": [
        "df_sales_raw = pd.read_csv('/content/dataset /train.csv', low_memory= False)\n",
        "df_store_raw = pd.read_csv('/content/dataset /store.csv', low_memory= False)\n"
      ]
    },
    {
      "cell_type": "code",
      "execution_count": null,
      "metadata": {
        "colab": {
          "base_uri": "https://localhost:8080/",
          "height": 206
        },
        "id": "JPKxBXfcwswa",
        "outputId": "abacd983-8df6-452c-d3dd-e1cb0898c86f"
      },
      "outputs": [
        {
          "output_type": "execute_result",
          "data": {
            "text/plain": [
              "   Store  DayOfWeek        Date  Sales  Customers  Open  Promo StateHoliday  \\\n",
              "0      1          5  2015-07-31   5263        555     1    1.0            0   \n",
              "1      2          5  2015-07-31   6064        625     1    1.0            0   \n",
              "2      3          5  2015-07-31   8314        821     1    1.0            0   \n",
              "3      4          5  2015-07-31  13995       1498     1    1.0            0   \n",
              "4      5          5  2015-07-31   4822        559     1    1.0            0   \n",
              "\n",
              "   SchoolHoliday  \n",
              "0            1.0  \n",
              "1            1.0  \n",
              "2            1.0  \n",
              "3            1.0  \n",
              "4            1.0  "
            ],
            "text/html": [
              "\n",
              "  <div id=\"df-9db79f8e-21aa-48a2-b643-b3a08526764a\" class=\"colab-df-container\">\n",
              "    <div>\n",
              "<style scoped>\n",
              "    .dataframe tbody tr th:only-of-type {\n",
              "        vertical-align: middle;\n",
              "    }\n",
              "\n",
              "    .dataframe tbody tr th {\n",
              "        vertical-align: top;\n",
              "    }\n",
              "\n",
              "    .dataframe thead th {\n",
              "        text-align: right;\n",
              "    }\n",
              "</style>\n",
              "<table border=\"1\" class=\"dataframe\">\n",
              "  <thead>\n",
              "    <tr style=\"text-align: right;\">\n",
              "      <th></th>\n",
              "      <th>Store</th>\n",
              "      <th>DayOfWeek</th>\n",
              "      <th>Date</th>\n",
              "      <th>Sales</th>\n",
              "      <th>Customers</th>\n",
              "      <th>Open</th>\n",
              "      <th>Promo</th>\n",
              "      <th>StateHoliday</th>\n",
              "      <th>SchoolHoliday</th>\n",
              "    </tr>\n",
              "  </thead>\n",
              "  <tbody>\n",
              "    <tr>\n",
              "      <th>0</th>\n",
              "      <td>1</td>\n",
              "      <td>5</td>\n",
              "      <td>2015-07-31</td>\n",
              "      <td>5263</td>\n",
              "      <td>555</td>\n",
              "      <td>1</td>\n",
              "      <td>1.0</td>\n",
              "      <td>0</td>\n",
              "      <td>1.0</td>\n",
              "    </tr>\n",
              "    <tr>\n",
              "      <th>1</th>\n",
              "      <td>2</td>\n",
              "      <td>5</td>\n",
              "      <td>2015-07-31</td>\n",
              "      <td>6064</td>\n",
              "      <td>625</td>\n",
              "      <td>1</td>\n",
              "      <td>1.0</td>\n",
              "      <td>0</td>\n",
              "      <td>1.0</td>\n",
              "    </tr>\n",
              "    <tr>\n",
              "      <th>2</th>\n",
              "      <td>3</td>\n",
              "      <td>5</td>\n",
              "      <td>2015-07-31</td>\n",
              "      <td>8314</td>\n",
              "      <td>821</td>\n",
              "      <td>1</td>\n",
              "      <td>1.0</td>\n",
              "      <td>0</td>\n",
              "      <td>1.0</td>\n",
              "    </tr>\n",
              "    <tr>\n",
              "      <th>3</th>\n",
              "      <td>4</td>\n",
              "      <td>5</td>\n",
              "      <td>2015-07-31</td>\n",
              "      <td>13995</td>\n",
              "      <td>1498</td>\n",
              "      <td>1</td>\n",
              "      <td>1.0</td>\n",
              "      <td>0</td>\n",
              "      <td>1.0</td>\n",
              "    </tr>\n",
              "    <tr>\n",
              "      <th>4</th>\n",
              "      <td>5</td>\n",
              "      <td>5</td>\n",
              "      <td>2015-07-31</td>\n",
              "      <td>4822</td>\n",
              "      <td>559</td>\n",
              "      <td>1</td>\n",
              "      <td>1.0</td>\n",
              "      <td>0</td>\n",
              "      <td>1.0</td>\n",
              "    </tr>\n",
              "  </tbody>\n",
              "</table>\n",
              "</div>\n",
              "    <div class=\"colab-df-buttons\">\n",
              "\n",
              "  <div class=\"colab-df-container\">\n",
              "    <button class=\"colab-df-convert\" onclick=\"convertToInteractive('df-9db79f8e-21aa-48a2-b643-b3a08526764a')\"\n",
              "            title=\"Convert this dataframe to an interactive table.\"\n",
              "            style=\"display:none;\">\n",
              "\n",
              "  <svg xmlns=\"http://www.w3.org/2000/svg\" height=\"24px\" viewBox=\"0 -960 960 960\">\n",
              "    <path d=\"M120-120v-720h720v720H120Zm60-500h600v-160H180v160Zm220 220h160v-160H400v160Zm0 220h160v-160H400v160ZM180-400h160v-160H180v160Zm440 0h160v-160H620v160ZM180-180h160v-160H180v160Zm440 0h160v-160H620v160Z\"/>\n",
              "  </svg>\n",
              "    </button>\n",
              "\n",
              "  <style>\n",
              "    .colab-df-container {\n",
              "      display:flex;\n",
              "      gap: 12px;\n",
              "    }\n",
              "\n",
              "    .colab-df-convert {\n",
              "      background-color: #E8F0FE;\n",
              "      border: none;\n",
              "      border-radius: 50%;\n",
              "      cursor: pointer;\n",
              "      display: none;\n",
              "      fill: #1967D2;\n",
              "      height: 32px;\n",
              "      padding: 0 0 0 0;\n",
              "      width: 32px;\n",
              "    }\n",
              "\n",
              "    .colab-df-convert:hover {\n",
              "      background-color: #E2EBFA;\n",
              "      box-shadow: 0px 1px 2px rgba(60, 64, 67, 0.3), 0px 1px 3px 1px rgba(60, 64, 67, 0.15);\n",
              "      fill: #174EA6;\n",
              "    }\n",
              "\n",
              "    .colab-df-buttons div {\n",
              "      margin-bottom: 4px;\n",
              "    }\n",
              "\n",
              "    [theme=dark] .colab-df-convert {\n",
              "      background-color: #3B4455;\n",
              "      fill: #D2E3FC;\n",
              "    }\n",
              "\n",
              "    [theme=dark] .colab-df-convert:hover {\n",
              "      background-color: #434B5C;\n",
              "      box-shadow: 0px 1px 3px 1px rgba(0, 0, 0, 0.15);\n",
              "      filter: drop-shadow(0px 1px 2px rgba(0, 0, 0, 0.3));\n",
              "      fill: #FFFFFF;\n",
              "    }\n",
              "  </style>\n",
              "\n",
              "    <script>\n",
              "      const buttonEl =\n",
              "        document.querySelector('#df-9db79f8e-21aa-48a2-b643-b3a08526764a button.colab-df-convert');\n",
              "      buttonEl.style.display =\n",
              "        google.colab.kernel.accessAllowed ? 'block' : 'none';\n",
              "\n",
              "      async function convertToInteractive(key) {\n",
              "        const element = document.querySelector('#df-9db79f8e-21aa-48a2-b643-b3a08526764a');\n",
              "        const dataTable =\n",
              "          await google.colab.kernel.invokeFunction('convertToInteractive',\n",
              "                                                    [key], {});\n",
              "        if (!dataTable) return;\n",
              "\n",
              "        const docLinkHtml = 'Like what you see? Visit the ' +\n",
              "          '<a target=\"_blank\" href=https://colab.research.google.com/notebooks/data_table.ipynb>data table notebook</a>'\n",
              "          + ' to learn more about interactive tables.';\n",
              "        element.innerHTML = '';\n",
              "        dataTable['output_type'] = 'display_data';\n",
              "        await google.colab.output.renderOutput(dataTable, element);\n",
              "        const docLink = document.createElement('div');\n",
              "        docLink.innerHTML = docLinkHtml;\n",
              "        element.appendChild(docLink);\n",
              "      }\n",
              "    </script>\n",
              "  </div>\n",
              "\n",
              "\n",
              "<div id=\"df-4a0d2da1-8d2f-4726-a0b7-56ec3fa3b944\">\n",
              "  <button class=\"colab-df-quickchart\" onclick=\"quickchart('df-4a0d2da1-8d2f-4726-a0b7-56ec3fa3b944')\"\n",
              "            title=\"Suggest charts\"\n",
              "            style=\"display:none;\">\n",
              "\n",
              "<svg xmlns=\"http://www.w3.org/2000/svg\" height=\"24px\"viewBox=\"0 0 24 24\"\n",
              "     width=\"24px\">\n",
              "    <g>\n",
              "        <path d=\"M19 3H5c-1.1 0-2 .9-2 2v14c0 1.1.9 2 2 2h14c1.1 0 2-.9 2-2V5c0-1.1-.9-2-2-2zM9 17H7v-7h2v7zm4 0h-2V7h2v10zm4 0h-2v-4h2v4z\"/>\n",
              "    </g>\n",
              "</svg>\n",
              "  </button>\n",
              "\n",
              "<style>\n",
              "  .colab-df-quickchart {\n",
              "      --bg-color: #E8F0FE;\n",
              "      --fill-color: #1967D2;\n",
              "      --hover-bg-color: #E2EBFA;\n",
              "      --hover-fill-color: #174EA6;\n",
              "      --disabled-fill-color: #AAA;\n",
              "      --disabled-bg-color: #DDD;\n",
              "  }\n",
              "\n",
              "  [theme=dark] .colab-df-quickchart {\n",
              "      --bg-color: #3B4455;\n",
              "      --fill-color: #D2E3FC;\n",
              "      --hover-bg-color: #434B5C;\n",
              "      --hover-fill-color: #FFFFFF;\n",
              "      --disabled-bg-color: #3B4455;\n",
              "      --disabled-fill-color: #666;\n",
              "  }\n",
              "\n",
              "  .colab-df-quickchart {\n",
              "    background-color: var(--bg-color);\n",
              "    border: none;\n",
              "    border-radius: 50%;\n",
              "    cursor: pointer;\n",
              "    display: none;\n",
              "    fill: var(--fill-color);\n",
              "    height: 32px;\n",
              "    padding: 0;\n",
              "    width: 32px;\n",
              "  }\n",
              "\n",
              "  .colab-df-quickchart:hover {\n",
              "    background-color: var(--hover-bg-color);\n",
              "    box-shadow: 0 1px 2px rgba(60, 64, 67, 0.3), 0 1px 3px 1px rgba(60, 64, 67, 0.15);\n",
              "    fill: var(--button-hover-fill-color);\n",
              "  }\n",
              "\n",
              "  .colab-df-quickchart-complete:disabled,\n",
              "  .colab-df-quickchart-complete:disabled:hover {\n",
              "    background-color: var(--disabled-bg-color);\n",
              "    fill: var(--disabled-fill-color);\n",
              "    box-shadow: none;\n",
              "  }\n",
              "\n",
              "  .colab-df-spinner {\n",
              "    border: 2px solid var(--fill-color);\n",
              "    border-color: transparent;\n",
              "    border-bottom-color: var(--fill-color);\n",
              "    animation:\n",
              "      spin 1s steps(1) infinite;\n",
              "  }\n",
              "\n",
              "  @keyframes spin {\n",
              "    0% {\n",
              "      border-color: transparent;\n",
              "      border-bottom-color: var(--fill-color);\n",
              "      border-left-color: var(--fill-color);\n",
              "    }\n",
              "    20% {\n",
              "      border-color: transparent;\n",
              "      border-left-color: var(--fill-color);\n",
              "      border-top-color: var(--fill-color);\n",
              "    }\n",
              "    30% {\n",
              "      border-color: transparent;\n",
              "      border-left-color: var(--fill-color);\n",
              "      border-top-color: var(--fill-color);\n",
              "      border-right-color: var(--fill-color);\n",
              "    }\n",
              "    40% {\n",
              "      border-color: transparent;\n",
              "      border-right-color: var(--fill-color);\n",
              "      border-top-color: var(--fill-color);\n",
              "    }\n",
              "    60% {\n",
              "      border-color: transparent;\n",
              "      border-right-color: var(--fill-color);\n",
              "    }\n",
              "    80% {\n",
              "      border-color: transparent;\n",
              "      border-right-color: var(--fill-color);\n",
              "      border-bottom-color: var(--fill-color);\n",
              "    }\n",
              "    90% {\n",
              "      border-color: transparent;\n",
              "      border-bottom-color: var(--fill-color);\n",
              "    }\n",
              "  }\n",
              "</style>\n",
              "\n",
              "  <script>\n",
              "    async function quickchart(key) {\n",
              "      const quickchartButtonEl =\n",
              "        document.querySelector('#' + key + ' button');\n",
              "      quickchartButtonEl.disabled = true;  // To prevent multiple clicks.\n",
              "      quickchartButtonEl.classList.add('colab-df-spinner');\n",
              "      try {\n",
              "        const charts = await google.colab.kernel.invokeFunction(\n",
              "            'suggestCharts', [key], {});\n",
              "      } catch (error) {\n",
              "        console.error('Error during call to suggestCharts:', error);\n",
              "      }\n",
              "      quickchartButtonEl.classList.remove('colab-df-spinner');\n",
              "      quickchartButtonEl.classList.add('colab-df-quickchart-complete');\n",
              "    }\n",
              "    (() => {\n",
              "      let quickchartButtonEl =\n",
              "        document.querySelector('#df-4a0d2da1-8d2f-4726-a0b7-56ec3fa3b944 button');\n",
              "      quickchartButtonEl.style.display =\n",
              "        google.colab.kernel.accessAllowed ? 'block' : 'none';\n",
              "    })();\n",
              "  </script>\n",
              "</div>\n",
              "    </div>\n",
              "  </div>\n"
            ],
            "application/vnd.google.colaboratory.intrinsic+json": {
              "type": "dataframe",
              "variable_name": "df_sales_raw"
            }
          },
          "metadata": {},
          "execution_count": 3
        }
      ],
      "source": [
        "df_sales_raw.head()"
      ]
    },
    {
      "cell_type": "code",
      "execution_count": null,
      "metadata": {
        "colab": {
          "base_uri": "https://localhost:8080/",
          "height": 206
        },
        "id": "F0U-5Dupwswc",
        "outputId": "1048b12b-6277-427b-d1b5-a5a50c4b6b44"
      },
      "outputs": [
        {
          "output_type": "execute_result",
          "data": {
            "text/plain": [
              "      Store  DayOfWeek        Date  Sales  Customers  Open  Promo  \\\n",
              "6690      1          6  2015-07-25   4364        500     1    0.0   \n",
              "6691      2          6  2015-07-25   2512        316     1    0.0   \n",
              "6692      3          6  2015-07-25   3878        412     1    0.0   \n",
              "6693      4          6  2015-07-25   9322       1219     1    0.0   \n",
              "6694      5          6  2015-07-25   2030        228     1    0.0   \n",
              "\n",
              "     StateHoliday  SchoolHoliday  \n",
              "6690            0            0.0  \n",
              "6691            0            0.0  \n",
              "6692            0            0.0  \n",
              "6693            0            0.0  \n",
              "6694            0            0.0  "
            ],
            "text/html": [
              "\n",
              "  <div id=\"df-2e89d72e-7952-4854-ab4c-924896eb3eec\" class=\"colab-df-container\">\n",
              "    <div>\n",
              "<style scoped>\n",
              "    .dataframe tbody tr th:only-of-type {\n",
              "        vertical-align: middle;\n",
              "    }\n",
              "\n",
              "    .dataframe tbody tr th {\n",
              "        vertical-align: top;\n",
              "    }\n",
              "\n",
              "    .dataframe thead th {\n",
              "        text-align: right;\n",
              "    }\n",
              "</style>\n",
              "<table border=\"1\" class=\"dataframe\">\n",
              "  <thead>\n",
              "    <tr style=\"text-align: right;\">\n",
              "      <th></th>\n",
              "      <th>Store</th>\n",
              "      <th>DayOfWeek</th>\n",
              "      <th>Date</th>\n",
              "      <th>Sales</th>\n",
              "      <th>Customers</th>\n",
              "      <th>Open</th>\n",
              "      <th>Promo</th>\n",
              "      <th>StateHoliday</th>\n",
              "      <th>SchoolHoliday</th>\n",
              "    </tr>\n",
              "  </thead>\n",
              "  <tbody>\n",
              "    <tr>\n",
              "      <th>6690</th>\n",
              "      <td>1</td>\n",
              "      <td>6</td>\n",
              "      <td>2015-07-25</td>\n",
              "      <td>4364</td>\n",
              "      <td>500</td>\n",
              "      <td>1</td>\n",
              "      <td>0.0</td>\n",
              "      <td>0</td>\n",
              "      <td>0.0</td>\n",
              "    </tr>\n",
              "    <tr>\n",
              "      <th>6691</th>\n",
              "      <td>2</td>\n",
              "      <td>6</td>\n",
              "      <td>2015-07-25</td>\n",
              "      <td>2512</td>\n",
              "      <td>316</td>\n",
              "      <td>1</td>\n",
              "      <td>0.0</td>\n",
              "      <td>0</td>\n",
              "      <td>0.0</td>\n",
              "    </tr>\n",
              "    <tr>\n",
              "      <th>6692</th>\n",
              "      <td>3</td>\n",
              "      <td>6</td>\n",
              "      <td>2015-07-25</td>\n",
              "      <td>3878</td>\n",
              "      <td>412</td>\n",
              "      <td>1</td>\n",
              "      <td>0.0</td>\n",
              "      <td>0</td>\n",
              "      <td>0.0</td>\n",
              "    </tr>\n",
              "    <tr>\n",
              "      <th>6693</th>\n",
              "      <td>4</td>\n",
              "      <td>6</td>\n",
              "      <td>2015-07-25</td>\n",
              "      <td>9322</td>\n",
              "      <td>1219</td>\n",
              "      <td>1</td>\n",
              "      <td>0.0</td>\n",
              "      <td>0</td>\n",
              "      <td>0.0</td>\n",
              "    </tr>\n",
              "    <tr>\n",
              "      <th>6694</th>\n",
              "      <td>5</td>\n",
              "      <td>6</td>\n",
              "      <td>2015-07-25</td>\n",
              "      <td>2030</td>\n",
              "      <td>228</td>\n",
              "      <td>1</td>\n",
              "      <td>0.0</td>\n",
              "      <td>0</td>\n",
              "      <td>0.0</td>\n",
              "    </tr>\n",
              "  </tbody>\n",
              "</table>\n",
              "</div>\n",
              "    <div class=\"colab-df-buttons\">\n",
              "\n",
              "  <div class=\"colab-df-container\">\n",
              "    <button class=\"colab-df-convert\" onclick=\"convertToInteractive('df-2e89d72e-7952-4854-ab4c-924896eb3eec')\"\n",
              "            title=\"Convert this dataframe to an interactive table.\"\n",
              "            style=\"display:none;\">\n",
              "\n",
              "  <svg xmlns=\"http://www.w3.org/2000/svg\" height=\"24px\" viewBox=\"0 -960 960 960\">\n",
              "    <path d=\"M120-120v-720h720v720H120Zm60-500h600v-160H180v160Zm220 220h160v-160H400v160Zm0 220h160v-160H400v160ZM180-400h160v-160H180v160Zm440 0h160v-160H620v160ZM180-180h160v-160H180v160Zm440 0h160v-160H620v160Z\"/>\n",
              "  </svg>\n",
              "    </button>\n",
              "\n",
              "  <style>\n",
              "    .colab-df-container {\n",
              "      display:flex;\n",
              "      gap: 12px;\n",
              "    }\n",
              "\n",
              "    .colab-df-convert {\n",
              "      background-color: #E8F0FE;\n",
              "      border: none;\n",
              "      border-radius: 50%;\n",
              "      cursor: pointer;\n",
              "      display: none;\n",
              "      fill: #1967D2;\n",
              "      height: 32px;\n",
              "      padding: 0 0 0 0;\n",
              "      width: 32px;\n",
              "    }\n",
              "\n",
              "    .colab-df-convert:hover {\n",
              "      background-color: #E2EBFA;\n",
              "      box-shadow: 0px 1px 2px rgba(60, 64, 67, 0.3), 0px 1px 3px 1px rgba(60, 64, 67, 0.15);\n",
              "      fill: #174EA6;\n",
              "    }\n",
              "\n",
              "    .colab-df-buttons div {\n",
              "      margin-bottom: 4px;\n",
              "    }\n",
              "\n",
              "    [theme=dark] .colab-df-convert {\n",
              "      background-color: #3B4455;\n",
              "      fill: #D2E3FC;\n",
              "    }\n",
              "\n",
              "    [theme=dark] .colab-df-convert:hover {\n",
              "      background-color: #434B5C;\n",
              "      box-shadow: 0px 1px 3px 1px rgba(0, 0, 0, 0.15);\n",
              "      filter: drop-shadow(0px 1px 2px rgba(0, 0, 0, 0.3));\n",
              "      fill: #FFFFFF;\n",
              "    }\n",
              "  </style>\n",
              "\n",
              "    <script>\n",
              "      const buttonEl =\n",
              "        document.querySelector('#df-2e89d72e-7952-4854-ab4c-924896eb3eec button.colab-df-convert');\n",
              "      buttonEl.style.display =\n",
              "        google.colab.kernel.accessAllowed ? 'block' : 'none';\n",
              "\n",
              "      async function convertToInteractive(key) {\n",
              "        const element = document.querySelector('#df-2e89d72e-7952-4854-ab4c-924896eb3eec');\n",
              "        const dataTable =\n",
              "          await google.colab.kernel.invokeFunction('convertToInteractive',\n",
              "                                                    [key], {});\n",
              "        if (!dataTable) return;\n",
              "\n",
              "        const docLinkHtml = 'Like what you see? Visit the ' +\n",
              "          '<a target=\"_blank\" href=https://colab.research.google.com/notebooks/data_table.ipynb>data table notebook</a>'\n",
              "          + ' to learn more about interactive tables.';\n",
              "        element.innerHTML = '';\n",
              "        dataTable['output_type'] = 'display_data';\n",
              "        await google.colab.output.renderOutput(dataTable, element);\n",
              "        const docLink = document.createElement('div');\n",
              "        docLink.innerHTML = docLinkHtml;\n",
              "        element.appendChild(docLink);\n",
              "      }\n",
              "    </script>\n",
              "  </div>\n",
              "\n",
              "\n",
              "<div id=\"df-a8d18160-6419-40eb-8b28-ed20875c9a2e\">\n",
              "  <button class=\"colab-df-quickchart\" onclick=\"quickchart('df-a8d18160-6419-40eb-8b28-ed20875c9a2e')\"\n",
              "            title=\"Suggest charts\"\n",
              "            style=\"display:none;\">\n",
              "\n",
              "<svg xmlns=\"http://www.w3.org/2000/svg\" height=\"24px\"viewBox=\"0 0 24 24\"\n",
              "     width=\"24px\">\n",
              "    <g>\n",
              "        <path d=\"M19 3H5c-1.1 0-2 .9-2 2v14c0 1.1.9 2 2 2h14c1.1 0 2-.9 2-2V5c0-1.1-.9-2-2-2zM9 17H7v-7h2v7zm4 0h-2V7h2v10zm4 0h-2v-4h2v4z\"/>\n",
              "    </g>\n",
              "</svg>\n",
              "  </button>\n",
              "\n",
              "<style>\n",
              "  .colab-df-quickchart {\n",
              "      --bg-color: #E8F0FE;\n",
              "      --fill-color: #1967D2;\n",
              "      --hover-bg-color: #E2EBFA;\n",
              "      --hover-fill-color: #174EA6;\n",
              "      --disabled-fill-color: #AAA;\n",
              "      --disabled-bg-color: #DDD;\n",
              "  }\n",
              "\n",
              "  [theme=dark] .colab-df-quickchart {\n",
              "      --bg-color: #3B4455;\n",
              "      --fill-color: #D2E3FC;\n",
              "      --hover-bg-color: #434B5C;\n",
              "      --hover-fill-color: #FFFFFF;\n",
              "      --disabled-bg-color: #3B4455;\n",
              "      --disabled-fill-color: #666;\n",
              "  }\n",
              "\n",
              "  .colab-df-quickchart {\n",
              "    background-color: var(--bg-color);\n",
              "    border: none;\n",
              "    border-radius: 50%;\n",
              "    cursor: pointer;\n",
              "    display: none;\n",
              "    fill: var(--fill-color);\n",
              "    height: 32px;\n",
              "    padding: 0;\n",
              "    width: 32px;\n",
              "  }\n",
              "\n",
              "  .colab-df-quickchart:hover {\n",
              "    background-color: var(--hover-bg-color);\n",
              "    box-shadow: 0 1px 2px rgba(60, 64, 67, 0.3), 0 1px 3px 1px rgba(60, 64, 67, 0.15);\n",
              "    fill: var(--button-hover-fill-color);\n",
              "  }\n",
              "\n",
              "  .colab-df-quickchart-complete:disabled,\n",
              "  .colab-df-quickchart-complete:disabled:hover {\n",
              "    background-color: var(--disabled-bg-color);\n",
              "    fill: var(--disabled-fill-color);\n",
              "    box-shadow: none;\n",
              "  }\n",
              "\n",
              "  .colab-df-spinner {\n",
              "    border: 2px solid var(--fill-color);\n",
              "    border-color: transparent;\n",
              "    border-bottom-color: var(--fill-color);\n",
              "    animation:\n",
              "      spin 1s steps(1) infinite;\n",
              "  }\n",
              "\n",
              "  @keyframes spin {\n",
              "    0% {\n",
              "      border-color: transparent;\n",
              "      border-bottom-color: var(--fill-color);\n",
              "      border-left-color: var(--fill-color);\n",
              "    }\n",
              "    20% {\n",
              "      border-color: transparent;\n",
              "      border-left-color: var(--fill-color);\n",
              "      border-top-color: var(--fill-color);\n",
              "    }\n",
              "    30% {\n",
              "      border-color: transparent;\n",
              "      border-left-color: var(--fill-color);\n",
              "      border-top-color: var(--fill-color);\n",
              "      border-right-color: var(--fill-color);\n",
              "    }\n",
              "    40% {\n",
              "      border-color: transparent;\n",
              "      border-right-color: var(--fill-color);\n",
              "      border-top-color: var(--fill-color);\n",
              "    }\n",
              "    60% {\n",
              "      border-color: transparent;\n",
              "      border-right-color: var(--fill-color);\n",
              "    }\n",
              "    80% {\n",
              "      border-color: transparent;\n",
              "      border-right-color: var(--fill-color);\n",
              "      border-bottom-color: var(--fill-color);\n",
              "    }\n",
              "    90% {\n",
              "      border-color: transparent;\n",
              "      border-bottom-color: var(--fill-color);\n",
              "    }\n",
              "  }\n",
              "</style>\n",
              "\n",
              "  <script>\n",
              "    async function quickchart(key) {\n",
              "      const quickchartButtonEl =\n",
              "        document.querySelector('#' + key + ' button');\n",
              "      quickchartButtonEl.disabled = true;  // To prevent multiple clicks.\n",
              "      quickchartButtonEl.classList.add('colab-df-spinner');\n",
              "      try {\n",
              "        const charts = await google.colab.kernel.invokeFunction(\n",
              "            'suggestCharts', [key], {});\n",
              "      } catch (error) {\n",
              "        console.error('Error during call to suggestCharts:', error);\n",
              "      }\n",
              "      quickchartButtonEl.classList.remove('colab-df-spinner');\n",
              "      quickchartButtonEl.classList.add('colab-df-quickchart-complete');\n",
              "    }\n",
              "    (() => {\n",
              "      let quickchartButtonEl =\n",
              "        document.querySelector('#df-a8d18160-6419-40eb-8b28-ed20875c9a2e button');\n",
              "      quickchartButtonEl.style.display =\n",
              "        google.colab.kernel.accessAllowed ? 'block' : 'none';\n",
              "    })();\n",
              "  </script>\n",
              "</div>\n",
              "    </div>\n",
              "  </div>\n"
            ],
            "application/vnd.google.colaboratory.intrinsic+json": {
              "type": "dataframe",
              "repr_error": "0"
            }
          },
          "metadata": {},
          "execution_count": 4
        }
      ],
      "source": [
        "filtro=df_sales_raw['DayOfWeek'] == 6\n",
        "\n",
        "df_sales_raw[filtro].head()\n",
        "# em DayOfWeek dia 7 é domingo e as lojas não abrem!"
      ]
    },
    {
      "cell_type": "code",
      "execution_count": null,
      "metadata": {
        "colab": {
          "base_uri": "https://localhost:8080/",
          "height": 226
        },
        "id": "GpFI9NIswswd",
        "outputId": "db6a60b8-0e36-445d-c255-a970c540ad49"
      },
      "outputs": [
        {
          "output_type": "execute_result",
          "data": {
            "text/plain": [
              "   Store StoreType Assortment  CompetitionDistance  CompetitionOpenSinceMonth  \\\n",
              "0      1         c          a               1270.0                        9.0   \n",
              "1      2         a          a                570.0                       11.0   \n",
              "2      3         a          a              14130.0                       12.0   \n",
              "3      4         c          c                620.0                        9.0   \n",
              "4      5         a          a              29910.0                        4.0   \n",
              "\n",
              "   CompetitionOpenSinceYear  Promo2  Promo2SinceWeek  Promo2SinceYear  \\\n",
              "0                    2008.0       0              NaN              NaN   \n",
              "1                    2007.0       1             13.0           2010.0   \n",
              "2                    2006.0       1             14.0           2011.0   \n",
              "3                    2009.0       0              NaN              NaN   \n",
              "4                    2015.0       0              NaN              NaN   \n",
              "\n",
              "     PromoInterval  \n",
              "0              NaN  \n",
              "1  Jan,Apr,Jul,Oct  \n",
              "2  Jan,Apr,Jul,Oct  \n",
              "3              NaN  \n",
              "4              NaN  "
            ],
            "text/html": [
              "\n",
              "  <div id=\"df-6f573ffb-cc15-4c67-800c-365b1d17a58a\" class=\"colab-df-container\">\n",
              "    <div>\n",
              "<style scoped>\n",
              "    .dataframe tbody tr th:only-of-type {\n",
              "        vertical-align: middle;\n",
              "    }\n",
              "\n",
              "    .dataframe tbody tr th {\n",
              "        vertical-align: top;\n",
              "    }\n",
              "\n",
              "    .dataframe thead th {\n",
              "        text-align: right;\n",
              "    }\n",
              "</style>\n",
              "<table border=\"1\" class=\"dataframe\">\n",
              "  <thead>\n",
              "    <tr style=\"text-align: right;\">\n",
              "      <th></th>\n",
              "      <th>Store</th>\n",
              "      <th>StoreType</th>\n",
              "      <th>Assortment</th>\n",
              "      <th>CompetitionDistance</th>\n",
              "      <th>CompetitionOpenSinceMonth</th>\n",
              "      <th>CompetitionOpenSinceYear</th>\n",
              "      <th>Promo2</th>\n",
              "      <th>Promo2SinceWeek</th>\n",
              "      <th>Promo2SinceYear</th>\n",
              "      <th>PromoInterval</th>\n",
              "    </tr>\n",
              "  </thead>\n",
              "  <tbody>\n",
              "    <tr>\n",
              "      <th>0</th>\n",
              "      <td>1</td>\n",
              "      <td>c</td>\n",
              "      <td>a</td>\n",
              "      <td>1270.0</td>\n",
              "      <td>9.0</td>\n",
              "      <td>2008.0</td>\n",
              "      <td>0</td>\n",
              "      <td>NaN</td>\n",
              "      <td>NaN</td>\n",
              "      <td>NaN</td>\n",
              "    </tr>\n",
              "    <tr>\n",
              "      <th>1</th>\n",
              "      <td>2</td>\n",
              "      <td>a</td>\n",
              "      <td>a</td>\n",
              "      <td>570.0</td>\n",
              "      <td>11.0</td>\n",
              "      <td>2007.0</td>\n",
              "      <td>1</td>\n",
              "      <td>13.0</td>\n",
              "      <td>2010.0</td>\n",
              "      <td>Jan,Apr,Jul,Oct</td>\n",
              "    </tr>\n",
              "    <tr>\n",
              "      <th>2</th>\n",
              "      <td>3</td>\n",
              "      <td>a</td>\n",
              "      <td>a</td>\n",
              "      <td>14130.0</td>\n",
              "      <td>12.0</td>\n",
              "      <td>2006.0</td>\n",
              "      <td>1</td>\n",
              "      <td>14.0</td>\n",
              "      <td>2011.0</td>\n",
              "      <td>Jan,Apr,Jul,Oct</td>\n",
              "    </tr>\n",
              "    <tr>\n",
              "      <th>3</th>\n",
              "      <td>4</td>\n",
              "      <td>c</td>\n",
              "      <td>c</td>\n",
              "      <td>620.0</td>\n",
              "      <td>9.0</td>\n",
              "      <td>2009.0</td>\n",
              "      <td>0</td>\n",
              "      <td>NaN</td>\n",
              "      <td>NaN</td>\n",
              "      <td>NaN</td>\n",
              "    </tr>\n",
              "    <tr>\n",
              "      <th>4</th>\n",
              "      <td>5</td>\n",
              "      <td>a</td>\n",
              "      <td>a</td>\n",
              "      <td>29910.0</td>\n",
              "      <td>4.0</td>\n",
              "      <td>2015.0</td>\n",
              "      <td>0</td>\n",
              "      <td>NaN</td>\n",
              "      <td>NaN</td>\n",
              "      <td>NaN</td>\n",
              "    </tr>\n",
              "  </tbody>\n",
              "</table>\n",
              "</div>\n",
              "    <div class=\"colab-df-buttons\">\n",
              "\n",
              "  <div class=\"colab-df-container\">\n",
              "    <button class=\"colab-df-convert\" onclick=\"convertToInteractive('df-6f573ffb-cc15-4c67-800c-365b1d17a58a')\"\n",
              "            title=\"Convert this dataframe to an interactive table.\"\n",
              "            style=\"display:none;\">\n",
              "\n",
              "  <svg xmlns=\"http://www.w3.org/2000/svg\" height=\"24px\" viewBox=\"0 -960 960 960\">\n",
              "    <path d=\"M120-120v-720h720v720H120Zm60-500h600v-160H180v160Zm220 220h160v-160H400v160Zm0 220h160v-160H400v160ZM180-400h160v-160H180v160Zm440 0h160v-160H620v160ZM180-180h160v-160H180v160Zm440 0h160v-160H620v160Z\"/>\n",
              "  </svg>\n",
              "    </button>\n",
              "\n",
              "  <style>\n",
              "    .colab-df-container {\n",
              "      display:flex;\n",
              "      gap: 12px;\n",
              "    }\n",
              "\n",
              "    .colab-df-convert {\n",
              "      background-color: #E8F0FE;\n",
              "      border: none;\n",
              "      border-radius: 50%;\n",
              "      cursor: pointer;\n",
              "      display: none;\n",
              "      fill: #1967D2;\n",
              "      height: 32px;\n",
              "      padding: 0 0 0 0;\n",
              "      width: 32px;\n",
              "    }\n",
              "\n",
              "    .colab-df-convert:hover {\n",
              "      background-color: #E2EBFA;\n",
              "      box-shadow: 0px 1px 2px rgba(60, 64, 67, 0.3), 0px 1px 3px 1px rgba(60, 64, 67, 0.15);\n",
              "      fill: #174EA6;\n",
              "    }\n",
              "\n",
              "    .colab-df-buttons div {\n",
              "      margin-bottom: 4px;\n",
              "    }\n",
              "\n",
              "    [theme=dark] .colab-df-convert {\n",
              "      background-color: #3B4455;\n",
              "      fill: #D2E3FC;\n",
              "    }\n",
              "\n",
              "    [theme=dark] .colab-df-convert:hover {\n",
              "      background-color: #434B5C;\n",
              "      box-shadow: 0px 1px 3px 1px rgba(0, 0, 0, 0.15);\n",
              "      filter: drop-shadow(0px 1px 2px rgba(0, 0, 0, 0.3));\n",
              "      fill: #FFFFFF;\n",
              "    }\n",
              "  </style>\n",
              "\n",
              "    <script>\n",
              "      const buttonEl =\n",
              "        document.querySelector('#df-6f573ffb-cc15-4c67-800c-365b1d17a58a button.colab-df-convert');\n",
              "      buttonEl.style.display =\n",
              "        google.colab.kernel.accessAllowed ? 'block' : 'none';\n",
              "\n",
              "      async function convertToInteractive(key) {\n",
              "        const element = document.querySelector('#df-6f573ffb-cc15-4c67-800c-365b1d17a58a');\n",
              "        const dataTable =\n",
              "          await google.colab.kernel.invokeFunction('convertToInteractive',\n",
              "                                                    [key], {});\n",
              "        if (!dataTable) return;\n",
              "\n",
              "        const docLinkHtml = 'Like what you see? Visit the ' +\n",
              "          '<a target=\"_blank\" href=https://colab.research.google.com/notebooks/data_table.ipynb>data table notebook</a>'\n",
              "          + ' to learn more about interactive tables.';\n",
              "        element.innerHTML = '';\n",
              "        dataTable['output_type'] = 'display_data';\n",
              "        await google.colab.output.renderOutput(dataTable, element);\n",
              "        const docLink = document.createElement('div');\n",
              "        docLink.innerHTML = docLinkHtml;\n",
              "        element.appendChild(docLink);\n",
              "      }\n",
              "    </script>\n",
              "  </div>\n",
              "\n",
              "\n",
              "<div id=\"df-40620819-683e-4993-9333-f26e3368c3ae\">\n",
              "  <button class=\"colab-df-quickchart\" onclick=\"quickchart('df-40620819-683e-4993-9333-f26e3368c3ae')\"\n",
              "            title=\"Suggest charts\"\n",
              "            style=\"display:none;\">\n",
              "\n",
              "<svg xmlns=\"http://www.w3.org/2000/svg\" height=\"24px\"viewBox=\"0 0 24 24\"\n",
              "     width=\"24px\">\n",
              "    <g>\n",
              "        <path d=\"M19 3H5c-1.1 0-2 .9-2 2v14c0 1.1.9 2 2 2h14c1.1 0 2-.9 2-2V5c0-1.1-.9-2-2-2zM9 17H7v-7h2v7zm4 0h-2V7h2v10zm4 0h-2v-4h2v4z\"/>\n",
              "    </g>\n",
              "</svg>\n",
              "  </button>\n",
              "\n",
              "<style>\n",
              "  .colab-df-quickchart {\n",
              "      --bg-color: #E8F0FE;\n",
              "      --fill-color: #1967D2;\n",
              "      --hover-bg-color: #E2EBFA;\n",
              "      --hover-fill-color: #174EA6;\n",
              "      --disabled-fill-color: #AAA;\n",
              "      --disabled-bg-color: #DDD;\n",
              "  }\n",
              "\n",
              "  [theme=dark] .colab-df-quickchart {\n",
              "      --bg-color: #3B4455;\n",
              "      --fill-color: #D2E3FC;\n",
              "      --hover-bg-color: #434B5C;\n",
              "      --hover-fill-color: #FFFFFF;\n",
              "      --disabled-bg-color: #3B4455;\n",
              "      --disabled-fill-color: #666;\n",
              "  }\n",
              "\n",
              "  .colab-df-quickchart {\n",
              "    background-color: var(--bg-color);\n",
              "    border: none;\n",
              "    border-radius: 50%;\n",
              "    cursor: pointer;\n",
              "    display: none;\n",
              "    fill: var(--fill-color);\n",
              "    height: 32px;\n",
              "    padding: 0;\n",
              "    width: 32px;\n",
              "  }\n",
              "\n",
              "  .colab-df-quickchart:hover {\n",
              "    background-color: var(--hover-bg-color);\n",
              "    box-shadow: 0 1px 2px rgba(60, 64, 67, 0.3), 0 1px 3px 1px rgba(60, 64, 67, 0.15);\n",
              "    fill: var(--button-hover-fill-color);\n",
              "  }\n",
              "\n",
              "  .colab-df-quickchart-complete:disabled,\n",
              "  .colab-df-quickchart-complete:disabled:hover {\n",
              "    background-color: var(--disabled-bg-color);\n",
              "    fill: var(--disabled-fill-color);\n",
              "    box-shadow: none;\n",
              "  }\n",
              "\n",
              "  .colab-df-spinner {\n",
              "    border: 2px solid var(--fill-color);\n",
              "    border-color: transparent;\n",
              "    border-bottom-color: var(--fill-color);\n",
              "    animation:\n",
              "      spin 1s steps(1) infinite;\n",
              "  }\n",
              "\n",
              "  @keyframes spin {\n",
              "    0% {\n",
              "      border-color: transparent;\n",
              "      border-bottom-color: var(--fill-color);\n",
              "      border-left-color: var(--fill-color);\n",
              "    }\n",
              "    20% {\n",
              "      border-color: transparent;\n",
              "      border-left-color: var(--fill-color);\n",
              "      border-top-color: var(--fill-color);\n",
              "    }\n",
              "    30% {\n",
              "      border-color: transparent;\n",
              "      border-left-color: var(--fill-color);\n",
              "      border-top-color: var(--fill-color);\n",
              "      border-right-color: var(--fill-color);\n",
              "    }\n",
              "    40% {\n",
              "      border-color: transparent;\n",
              "      border-right-color: var(--fill-color);\n",
              "      border-top-color: var(--fill-color);\n",
              "    }\n",
              "    60% {\n",
              "      border-color: transparent;\n",
              "      border-right-color: var(--fill-color);\n",
              "    }\n",
              "    80% {\n",
              "      border-color: transparent;\n",
              "      border-right-color: var(--fill-color);\n",
              "      border-bottom-color: var(--fill-color);\n",
              "    }\n",
              "    90% {\n",
              "      border-color: transparent;\n",
              "      border-bottom-color: var(--fill-color);\n",
              "    }\n",
              "  }\n",
              "</style>\n",
              "\n",
              "  <script>\n",
              "    async function quickchart(key) {\n",
              "      const quickchartButtonEl =\n",
              "        document.querySelector('#' + key + ' button');\n",
              "      quickchartButtonEl.disabled = true;  // To prevent multiple clicks.\n",
              "      quickchartButtonEl.classList.add('colab-df-spinner');\n",
              "      try {\n",
              "        const charts = await google.colab.kernel.invokeFunction(\n",
              "            'suggestCharts', [key], {});\n",
              "      } catch (error) {\n",
              "        console.error('Error during call to suggestCharts:', error);\n",
              "      }\n",
              "      quickchartButtonEl.classList.remove('colab-df-spinner');\n",
              "      quickchartButtonEl.classList.add('colab-df-quickchart-complete');\n",
              "    }\n",
              "    (() => {\n",
              "      let quickchartButtonEl =\n",
              "        document.querySelector('#df-40620819-683e-4993-9333-f26e3368c3ae button');\n",
              "      quickchartButtonEl.style.display =\n",
              "        google.colab.kernel.accessAllowed ? 'block' : 'none';\n",
              "    })();\n",
              "  </script>\n",
              "</div>\n",
              "    </div>\n",
              "  </div>\n"
            ],
            "application/vnd.google.colaboratory.intrinsic+json": {
              "type": "dataframe",
              "variable_name": "df_store_raw",
              "summary": "{\n  \"name\": \"df_store_raw\",\n  \"rows\": 1115,\n  \"fields\": [\n    {\n      \"column\": \"Store\",\n      \"properties\": {\n        \"dtype\": \"number\",\n        \"std\": 322,\n        \"min\": 1,\n        \"max\": 1115,\n        \"num_unique_values\": 1115,\n        \"samples\": [\n          266,\n          102,\n          1046\n        ],\n        \"semantic_type\": \"\",\n        \"description\": \"\"\n      }\n    },\n    {\n      \"column\": \"StoreType\",\n      \"properties\": {\n        \"dtype\": \"category\",\n        \"num_unique_values\": 4,\n        \"samples\": [\n          \"a\",\n          \"b\",\n          \"c\"\n        ],\n        \"semantic_type\": \"\",\n        \"description\": \"\"\n      }\n    },\n    {\n      \"column\": \"Assortment\",\n      \"properties\": {\n        \"dtype\": \"category\",\n        \"num_unique_values\": 3,\n        \"samples\": [\n          \"a\",\n          \"c\",\n          \"b\"\n        ],\n        \"semantic_type\": \"\",\n        \"description\": \"\"\n      }\n    },\n    {\n      \"column\": \"CompetitionDistance\",\n      \"properties\": {\n        \"dtype\": \"number\",\n        \"std\": 7663.174720367944,\n        \"min\": 20.0,\n        \"max\": 75860.0,\n        \"num_unique_values\": 654,\n        \"samples\": [\n          810.0,\n          1870.0,\n          17650.0\n        ],\n        \"semantic_type\": \"\",\n        \"description\": \"\"\n      }\n    },\n    {\n      \"column\": \"CompetitionOpenSinceMonth\",\n      \"properties\": {\n        \"dtype\": \"number\",\n        \"std\": 3.2123477966147096,\n        \"min\": 1.0,\n        \"max\": 12.0,\n        \"num_unique_values\": 12,\n        \"samples\": [\n          2.0,\n          1.0,\n          9.0\n        ],\n        \"semantic_type\": \"\",\n        \"description\": \"\"\n      }\n    },\n    {\n      \"column\": \"CompetitionOpenSinceYear\",\n      \"properties\": {\n        \"dtype\": \"number\",\n        \"std\": 6.195982559329074,\n        \"min\": 1900.0,\n        \"max\": 2015.0,\n        \"num_unique_values\": 23,\n        \"samples\": [\n          2002.0,\n          2010.0,\n          2008.0\n        ],\n        \"semantic_type\": \"\",\n        \"description\": \"\"\n      }\n    },\n    {\n      \"column\": \"Promo2\",\n      \"properties\": {\n        \"dtype\": \"number\",\n        \"std\": 0,\n        \"min\": 0,\n        \"max\": 1,\n        \"num_unique_values\": 2,\n        \"samples\": [\n          1,\n          0\n        ],\n        \"semantic_type\": \"\",\n        \"description\": \"\"\n      }\n    },\n    {\n      \"column\": \"Promo2SinceWeek\",\n      \"properties\": {\n        \"dtype\": \"number\",\n        \"std\": 14.141983542922194,\n        \"min\": 1.0,\n        \"max\": 50.0,\n        \"num_unique_values\": 24,\n        \"samples\": [\n          6.0,\n          35.0\n        ],\n        \"semantic_type\": \"\",\n        \"description\": \"\"\n      }\n    },\n    {\n      \"column\": \"Promo2SinceYear\",\n      \"properties\": {\n        \"dtype\": \"number\",\n        \"std\": 1.6749350926066549,\n        \"min\": 2009.0,\n        \"max\": 2015.0,\n        \"num_unique_values\": 7,\n        \"samples\": [\n          2010.0,\n          2011.0\n        ],\n        \"semantic_type\": \"\",\n        \"description\": \"\"\n      }\n    },\n    {\n      \"column\": \"PromoInterval\",\n      \"properties\": {\n        \"dtype\": \"category\",\n        \"num_unique_values\": 3,\n        \"samples\": [\n          \"Jan,Apr,Jul,Oct\",\n          \"Feb,May,Aug,Nov\"\n        ],\n        \"semantic_type\": \"\",\n        \"description\": \"\"\n      }\n    }\n  ]\n}"
            }
          },
          "metadata": {},
          "execution_count": 5
        }
      ],
      "source": [
        "df_store_raw.head()"
      ]
    },
    {
      "cell_type": "markdown",
      "metadata": {
        "id": "zAzJmvB8wswd"
      },
      "source": [
        "Observamos que a coluna Store é comum nos dois dataset então vamos unir atráves dela, pois é uma chave\n",
        "estrageira"
      ]
    },
    {
      "cell_type": "code",
      "execution_count": null,
      "metadata": {
        "id": "v2zWHG0Vwswd"
      },
      "outputs": [],
      "source": [
        "df_merge_raw=pd.merge(df_sales_raw, df_store_raw, how = 'left', on='Store')"
      ]
    },
    {
      "cell_type": "code",
      "execution_count": null,
      "metadata": {
        "colab": {
          "base_uri": "https://localhost:8080/",
          "height": 313
        },
        "id": "Oiq8lj3ywswe",
        "outputId": "3c0a7933-c565-4d12-c6ae-52e987f674ad"
      },
      "outputs": [
        {
          "output_type": "execute_result",
          "data": {
            "text/plain": [
              "   Store  DayOfWeek        Date  Sales  Customers  Open  Promo StateHoliday  \\\n",
              "0      1          5  2015-07-31   5263        555     1    1.0            0   \n",
              "1      2          5  2015-07-31   6064        625     1    1.0            0   \n",
              "2      3          5  2015-07-31   8314        821     1    1.0            0   \n",
              "3      4          5  2015-07-31  13995       1498     1    1.0            0   \n",
              "4      5          5  2015-07-31   4822        559     1    1.0            0   \n",
              "\n",
              "   SchoolHoliday StoreType Assortment  CompetitionDistance  \\\n",
              "0            1.0         c          a               1270.0   \n",
              "1            1.0         a          a                570.0   \n",
              "2            1.0         a          a              14130.0   \n",
              "3            1.0         c          c                620.0   \n",
              "4            1.0         a          a              29910.0   \n",
              "\n",
              "   CompetitionOpenSinceMonth  CompetitionOpenSinceYear  Promo2  \\\n",
              "0                        9.0                    2008.0       0   \n",
              "1                       11.0                    2007.0       1   \n",
              "2                       12.0                    2006.0       1   \n",
              "3                        9.0                    2009.0       0   \n",
              "4                        4.0                    2015.0       0   \n",
              "\n",
              "   Promo2SinceWeek  Promo2SinceYear    PromoInterval  \n",
              "0              NaN              NaN              NaN  \n",
              "1             13.0           2010.0  Jan,Apr,Jul,Oct  \n",
              "2             14.0           2011.0  Jan,Apr,Jul,Oct  \n",
              "3              NaN              NaN              NaN  \n",
              "4              NaN              NaN              NaN  "
            ],
            "text/html": [
              "\n",
              "  <div id=\"df-538f8abd-681c-4f51-a602-db9518e697a8\" class=\"colab-df-container\">\n",
              "    <div>\n",
              "<style scoped>\n",
              "    .dataframe tbody tr th:only-of-type {\n",
              "        vertical-align: middle;\n",
              "    }\n",
              "\n",
              "    .dataframe tbody tr th {\n",
              "        vertical-align: top;\n",
              "    }\n",
              "\n",
              "    .dataframe thead th {\n",
              "        text-align: right;\n",
              "    }\n",
              "</style>\n",
              "<table border=\"1\" class=\"dataframe\">\n",
              "  <thead>\n",
              "    <tr style=\"text-align: right;\">\n",
              "      <th></th>\n",
              "      <th>Store</th>\n",
              "      <th>DayOfWeek</th>\n",
              "      <th>Date</th>\n",
              "      <th>Sales</th>\n",
              "      <th>Customers</th>\n",
              "      <th>Open</th>\n",
              "      <th>Promo</th>\n",
              "      <th>StateHoliday</th>\n",
              "      <th>SchoolHoliday</th>\n",
              "      <th>StoreType</th>\n",
              "      <th>Assortment</th>\n",
              "      <th>CompetitionDistance</th>\n",
              "      <th>CompetitionOpenSinceMonth</th>\n",
              "      <th>CompetitionOpenSinceYear</th>\n",
              "      <th>Promo2</th>\n",
              "      <th>Promo2SinceWeek</th>\n",
              "      <th>Promo2SinceYear</th>\n",
              "      <th>PromoInterval</th>\n",
              "    </tr>\n",
              "  </thead>\n",
              "  <tbody>\n",
              "    <tr>\n",
              "      <th>0</th>\n",
              "      <td>1</td>\n",
              "      <td>5</td>\n",
              "      <td>2015-07-31</td>\n",
              "      <td>5263</td>\n",
              "      <td>555</td>\n",
              "      <td>1</td>\n",
              "      <td>1.0</td>\n",
              "      <td>0</td>\n",
              "      <td>1.0</td>\n",
              "      <td>c</td>\n",
              "      <td>a</td>\n",
              "      <td>1270.0</td>\n",
              "      <td>9.0</td>\n",
              "      <td>2008.0</td>\n",
              "      <td>0</td>\n",
              "      <td>NaN</td>\n",
              "      <td>NaN</td>\n",
              "      <td>NaN</td>\n",
              "    </tr>\n",
              "    <tr>\n",
              "      <th>1</th>\n",
              "      <td>2</td>\n",
              "      <td>5</td>\n",
              "      <td>2015-07-31</td>\n",
              "      <td>6064</td>\n",
              "      <td>625</td>\n",
              "      <td>1</td>\n",
              "      <td>1.0</td>\n",
              "      <td>0</td>\n",
              "      <td>1.0</td>\n",
              "      <td>a</td>\n",
              "      <td>a</td>\n",
              "      <td>570.0</td>\n",
              "      <td>11.0</td>\n",
              "      <td>2007.0</td>\n",
              "      <td>1</td>\n",
              "      <td>13.0</td>\n",
              "      <td>2010.0</td>\n",
              "      <td>Jan,Apr,Jul,Oct</td>\n",
              "    </tr>\n",
              "    <tr>\n",
              "      <th>2</th>\n",
              "      <td>3</td>\n",
              "      <td>5</td>\n",
              "      <td>2015-07-31</td>\n",
              "      <td>8314</td>\n",
              "      <td>821</td>\n",
              "      <td>1</td>\n",
              "      <td>1.0</td>\n",
              "      <td>0</td>\n",
              "      <td>1.0</td>\n",
              "      <td>a</td>\n",
              "      <td>a</td>\n",
              "      <td>14130.0</td>\n",
              "      <td>12.0</td>\n",
              "      <td>2006.0</td>\n",
              "      <td>1</td>\n",
              "      <td>14.0</td>\n",
              "      <td>2011.0</td>\n",
              "      <td>Jan,Apr,Jul,Oct</td>\n",
              "    </tr>\n",
              "    <tr>\n",
              "      <th>3</th>\n",
              "      <td>4</td>\n",
              "      <td>5</td>\n",
              "      <td>2015-07-31</td>\n",
              "      <td>13995</td>\n",
              "      <td>1498</td>\n",
              "      <td>1</td>\n",
              "      <td>1.0</td>\n",
              "      <td>0</td>\n",
              "      <td>1.0</td>\n",
              "      <td>c</td>\n",
              "      <td>c</td>\n",
              "      <td>620.0</td>\n",
              "      <td>9.0</td>\n",
              "      <td>2009.0</td>\n",
              "      <td>0</td>\n",
              "      <td>NaN</td>\n",
              "      <td>NaN</td>\n",
              "      <td>NaN</td>\n",
              "    </tr>\n",
              "    <tr>\n",
              "      <th>4</th>\n",
              "      <td>5</td>\n",
              "      <td>5</td>\n",
              "      <td>2015-07-31</td>\n",
              "      <td>4822</td>\n",
              "      <td>559</td>\n",
              "      <td>1</td>\n",
              "      <td>1.0</td>\n",
              "      <td>0</td>\n",
              "      <td>1.0</td>\n",
              "      <td>a</td>\n",
              "      <td>a</td>\n",
              "      <td>29910.0</td>\n",
              "      <td>4.0</td>\n",
              "      <td>2015.0</td>\n",
              "      <td>0</td>\n",
              "      <td>NaN</td>\n",
              "      <td>NaN</td>\n",
              "      <td>NaN</td>\n",
              "    </tr>\n",
              "  </tbody>\n",
              "</table>\n",
              "</div>\n",
              "    <div class=\"colab-df-buttons\">\n",
              "\n",
              "  <div class=\"colab-df-container\">\n",
              "    <button class=\"colab-df-convert\" onclick=\"convertToInteractive('df-538f8abd-681c-4f51-a602-db9518e697a8')\"\n",
              "            title=\"Convert this dataframe to an interactive table.\"\n",
              "            style=\"display:none;\">\n",
              "\n",
              "  <svg xmlns=\"http://www.w3.org/2000/svg\" height=\"24px\" viewBox=\"0 -960 960 960\">\n",
              "    <path d=\"M120-120v-720h720v720H120Zm60-500h600v-160H180v160Zm220 220h160v-160H400v160Zm0 220h160v-160H400v160ZM180-400h160v-160H180v160Zm440 0h160v-160H620v160ZM180-180h160v-160H180v160Zm440 0h160v-160H620v160Z\"/>\n",
              "  </svg>\n",
              "    </button>\n",
              "\n",
              "  <style>\n",
              "    .colab-df-container {\n",
              "      display:flex;\n",
              "      gap: 12px;\n",
              "    }\n",
              "\n",
              "    .colab-df-convert {\n",
              "      background-color: #E8F0FE;\n",
              "      border: none;\n",
              "      border-radius: 50%;\n",
              "      cursor: pointer;\n",
              "      display: none;\n",
              "      fill: #1967D2;\n",
              "      height: 32px;\n",
              "      padding: 0 0 0 0;\n",
              "      width: 32px;\n",
              "    }\n",
              "\n",
              "    .colab-df-convert:hover {\n",
              "      background-color: #E2EBFA;\n",
              "      box-shadow: 0px 1px 2px rgba(60, 64, 67, 0.3), 0px 1px 3px 1px rgba(60, 64, 67, 0.15);\n",
              "      fill: #174EA6;\n",
              "    }\n",
              "\n",
              "    .colab-df-buttons div {\n",
              "      margin-bottom: 4px;\n",
              "    }\n",
              "\n",
              "    [theme=dark] .colab-df-convert {\n",
              "      background-color: #3B4455;\n",
              "      fill: #D2E3FC;\n",
              "    }\n",
              "\n",
              "    [theme=dark] .colab-df-convert:hover {\n",
              "      background-color: #434B5C;\n",
              "      box-shadow: 0px 1px 3px 1px rgba(0, 0, 0, 0.15);\n",
              "      filter: drop-shadow(0px 1px 2px rgba(0, 0, 0, 0.3));\n",
              "      fill: #FFFFFF;\n",
              "    }\n",
              "  </style>\n",
              "\n",
              "    <script>\n",
              "      const buttonEl =\n",
              "        document.querySelector('#df-538f8abd-681c-4f51-a602-db9518e697a8 button.colab-df-convert');\n",
              "      buttonEl.style.display =\n",
              "        google.colab.kernel.accessAllowed ? 'block' : 'none';\n",
              "\n",
              "      async function convertToInteractive(key) {\n",
              "        const element = document.querySelector('#df-538f8abd-681c-4f51-a602-db9518e697a8');\n",
              "        const dataTable =\n",
              "          await google.colab.kernel.invokeFunction('convertToInteractive',\n",
              "                                                    [key], {});\n",
              "        if (!dataTable) return;\n",
              "\n",
              "        const docLinkHtml = 'Like what you see? Visit the ' +\n",
              "          '<a target=\"_blank\" href=https://colab.research.google.com/notebooks/data_table.ipynb>data table notebook</a>'\n",
              "          + ' to learn more about interactive tables.';\n",
              "        element.innerHTML = '';\n",
              "        dataTable['output_type'] = 'display_data';\n",
              "        await google.colab.output.renderOutput(dataTable, element);\n",
              "        const docLink = document.createElement('div');\n",
              "        docLink.innerHTML = docLinkHtml;\n",
              "        element.appendChild(docLink);\n",
              "      }\n",
              "    </script>\n",
              "  </div>\n",
              "\n",
              "\n",
              "<div id=\"df-d10d969d-dee2-470b-b41c-f6f996f51422\">\n",
              "  <button class=\"colab-df-quickchart\" onclick=\"quickchart('df-d10d969d-dee2-470b-b41c-f6f996f51422')\"\n",
              "            title=\"Suggest charts\"\n",
              "            style=\"display:none;\">\n",
              "\n",
              "<svg xmlns=\"http://www.w3.org/2000/svg\" height=\"24px\"viewBox=\"0 0 24 24\"\n",
              "     width=\"24px\">\n",
              "    <g>\n",
              "        <path d=\"M19 3H5c-1.1 0-2 .9-2 2v14c0 1.1.9 2 2 2h14c1.1 0 2-.9 2-2V5c0-1.1-.9-2-2-2zM9 17H7v-7h2v7zm4 0h-2V7h2v10zm4 0h-2v-4h2v4z\"/>\n",
              "    </g>\n",
              "</svg>\n",
              "  </button>\n",
              "\n",
              "<style>\n",
              "  .colab-df-quickchart {\n",
              "      --bg-color: #E8F0FE;\n",
              "      --fill-color: #1967D2;\n",
              "      --hover-bg-color: #E2EBFA;\n",
              "      --hover-fill-color: #174EA6;\n",
              "      --disabled-fill-color: #AAA;\n",
              "      --disabled-bg-color: #DDD;\n",
              "  }\n",
              "\n",
              "  [theme=dark] .colab-df-quickchart {\n",
              "      --bg-color: #3B4455;\n",
              "      --fill-color: #D2E3FC;\n",
              "      --hover-bg-color: #434B5C;\n",
              "      --hover-fill-color: #FFFFFF;\n",
              "      --disabled-bg-color: #3B4455;\n",
              "      --disabled-fill-color: #666;\n",
              "  }\n",
              "\n",
              "  .colab-df-quickchart {\n",
              "    background-color: var(--bg-color);\n",
              "    border: none;\n",
              "    border-radius: 50%;\n",
              "    cursor: pointer;\n",
              "    display: none;\n",
              "    fill: var(--fill-color);\n",
              "    height: 32px;\n",
              "    padding: 0;\n",
              "    width: 32px;\n",
              "  }\n",
              "\n",
              "  .colab-df-quickchart:hover {\n",
              "    background-color: var(--hover-bg-color);\n",
              "    box-shadow: 0 1px 2px rgba(60, 64, 67, 0.3), 0 1px 3px 1px rgba(60, 64, 67, 0.15);\n",
              "    fill: var(--button-hover-fill-color);\n",
              "  }\n",
              "\n",
              "  .colab-df-quickchart-complete:disabled,\n",
              "  .colab-df-quickchart-complete:disabled:hover {\n",
              "    background-color: var(--disabled-bg-color);\n",
              "    fill: var(--disabled-fill-color);\n",
              "    box-shadow: none;\n",
              "  }\n",
              "\n",
              "  .colab-df-spinner {\n",
              "    border: 2px solid var(--fill-color);\n",
              "    border-color: transparent;\n",
              "    border-bottom-color: var(--fill-color);\n",
              "    animation:\n",
              "      spin 1s steps(1) infinite;\n",
              "  }\n",
              "\n",
              "  @keyframes spin {\n",
              "    0% {\n",
              "      border-color: transparent;\n",
              "      border-bottom-color: var(--fill-color);\n",
              "      border-left-color: var(--fill-color);\n",
              "    }\n",
              "    20% {\n",
              "      border-color: transparent;\n",
              "      border-left-color: var(--fill-color);\n",
              "      border-top-color: var(--fill-color);\n",
              "    }\n",
              "    30% {\n",
              "      border-color: transparent;\n",
              "      border-left-color: var(--fill-color);\n",
              "      border-top-color: var(--fill-color);\n",
              "      border-right-color: var(--fill-color);\n",
              "    }\n",
              "    40% {\n",
              "      border-color: transparent;\n",
              "      border-right-color: var(--fill-color);\n",
              "      border-top-color: var(--fill-color);\n",
              "    }\n",
              "    60% {\n",
              "      border-color: transparent;\n",
              "      border-right-color: var(--fill-color);\n",
              "    }\n",
              "    80% {\n",
              "      border-color: transparent;\n",
              "      border-right-color: var(--fill-color);\n",
              "      border-bottom-color: var(--fill-color);\n",
              "    }\n",
              "    90% {\n",
              "      border-color: transparent;\n",
              "      border-bottom-color: var(--fill-color);\n",
              "    }\n",
              "  }\n",
              "</style>\n",
              "\n",
              "  <script>\n",
              "    async function quickchart(key) {\n",
              "      const quickchartButtonEl =\n",
              "        document.querySelector('#' + key + ' button');\n",
              "      quickchartButtonEl.disabled = true;  // To prevent multiple clicks.\n",
              "      quickchartButtonEl.classList.add('colab-df-spinner');\n",
              "      try {\n",
              "        const charts = await google.colab.kernel.invokeFunction(\n",
              "            'suggestCharts', [key], {});\n",
              "      } catch (error) {\n",
              "        console.error('Error during call to suggestCharts:', error);\n",
              "      }\n",
              "      quickchartButtonEl.classList.remove('colab-df-spinner');\n",
              "      quickchartButtonEl.classList.add('colab-df-quickchart-complete');\n",
              "    }\n",
              "    (() => {\n",
              "      let quickchartButtonEl =\n",
              "        document.querySelector('#df-d10d969d-dee2-470b-b41c-f6f996f51422 button');\n",
              "      quickchartButtonEl.style.display =\n",
              "        google.colab.kernel.accessAllowed ? 'block' : 'none';\n",
              "    })();\n",
              "  </script>\n",
              "</div>\n",
              "    </div>\n",
              "  </div>\n"
            ],
            "application/vnd.google.colaboratory.intrinsic+json": {
              "type": "dataframe",
              "variable_name": "df_merge_raw"
            }
          },
          "metadata": {},
          "execution_count": 7
        }
      ],
      "source": [
        "# Obsevando como ficou\n",
        "df_merge_raw.head()"
      ]
    },
    {
      "cell_type": "markdown",
      "metadata": {
        "id": "I1NYnq0xwswe"
      },
      "source": [
        "# 1. Helper Functions"
      ]
    },
    {
      "cell_type": "code",
      "execution_count": null,
      "metadata": {
        "id": "eKnngaBewswf"
      },
      "outputs": [],
      "source": [
        "def cross_validation( x_training, kfold, model_name, model, verbose=False ):\n",
        "    mae_list = []\n",
        "    mape_list = []\n",
        "    rmse_list = []\n",
        "    for k in reversed( range( 1, kfold+1 ) ):\n",
        "        if verbose:\n",
        "            print( '\\nKFold Number: {}'.format( k ) )\n",
        "            # start and end date for validation\n",
        "\n",
        "    validation_start_date = x_training['date'].max() - datetime.timedelta(days=k*6*7)\n",
        "    validation_end_date = x_training['date'].max() - datetime.timedelta(days=(k-1)*6*7)\n",
        "    # filtering dataset\n",
        "    training = x_training[x_training['date'] < validation_start_date]\n",
        "    validation = x_training[(x_training['date'] >= validation_start_date) & (x_training['date'] <= validation_end_date)]\n",
        "\n",
        "    # training and validation dataset\n",
        "# training\n",
        "    xtraining = training.drop( ['date', 'sales'], axis=1 )\n",
        "    ytraining = training['sales']\n",
        "\n",
        "    #validation\n",
        "    xvalidation = validation.drop( ['date', 'sales'], axis=1 )\n",
        "    yvalidation = validation['sales']\n",
        "    # model\n",
        "    m = model.fit( xtraining, ytraining )\n",
        "    # prediction\n",
        "    yhat = m.predict( xvalidation )\n",
        "    # performance\n",
        "    m_result = ml_error( model_name, np.expm1( yvalidation ), np.expm1(yhat ) )\n",
        "    # store performance of each kfold iteration\n",
        "    mae_list.append( m_result['MAE'] )\n",
        "    mape_list.append( m_result['MAPE'] )\n",
        "    rmse_list.append( m_result['RMSE'] )\n",
        "\n",
        "    return pd.DataFrame( {'Model Name': model_name, 'MAE CV': np.round( np.mean( mae_list ), 2 ).astype(str ) + ' +/- ' + np.round( np.std( mae_list ), 2 ).astype( str ),\n",
        "'MAPE CV': np.round( np.mean( mape_list ), 2 ).astype( str ) + ' +/- ' + np.round( np.std( mape_list ), 2 ).astype( str ),\n",
        "'RMSE CV': np.round( np.mean( rmse_list ), 2 ).astype( str ) + ' +/- ' + np.round( np.std( rmse_list ), 2 ).astype( str )}, index=[0] )\n",
        "\n",
        "\n",
        "def mean_percentage_error( y, yhat ):\n",
        "    return np.mean( ( y - yhat ) / y )\n",
        "\n",
        "\n",
        "def mean_absolute_percentage_error( y, yhat ):\n",
        "    return np.mean( np.abs( ( y - yhat ) / y ) )\n",
        "def ml_error( model_name, y, yhat ):\n",
        "    mae = mean_absolute_error( y, yhat )\n",
        "    mape = mean_absolute_percentage_error( y, yhat )\n",
        "    rmse = np.sqrt( mean_squared_error( y, yhat ) )\n",
        "    return pd.DataFrame( { 'Model Name': model_name,\n",
        "    'MAE': mae,\n",
        "    'MAPE': mape,\n",
        "    'RMSE': rmse }, index=[0] )\n",
        "def cramer_v( x, y ):\n",
        "    cm = pd.crosstab( x, y ).as_matrix()\n",
        "    n = cm.sum()\n",
        "    r, k = cm.shape\n",
        "    chi2 = ss.chi2_contingency( cm )[0]\n",
        "    chi2corr = max( 0, chi2 - (k-1)*(r-1)/(n-1) )\n",
        "    kcorr = k - (k-1)**2/(n-1)\n",
        "    rcorr = r - (r-1)**2/(n-1)\n",
        "    return np.sqrt( (chi2corr/n) / ( min( kcorr-1, rcorr-1 ) ) )\n",
        "\n",
        "def jupyter_settings():\n",
        "    %matplotlib inline\n",
        "    %pylab inline\n",
        "    plt.style.use( 'bmh' )\n",
        "    plt.rcParams['figure.figsize'] = [25, 12]\n",
        "    plt.rcParams['font.size'] = 24\n",
        "    display( HTML( '<style>.container { width:100% !important; }</style>') )\n",
        "    pd.options.display.max_columns = None\n",
        "    pd.options.display.max_rows = None\n",
        "    pd.set_option( 'display.expand_frame_repr', False )\n",
        "    sns.set()\n"
      ]
    },
    {
      "cell_type": "code",
      "execution_count": null,
      "metadata": {
        "colab": {
          "base_uri": "https://localhost:8080/",
          "height": 280
        },
        "id": "QmjdkJXKwswf",
        "outputId": "383ce3cb-dfc1-4861-c83e-f11c68eb9e00"
      },
      "outputs": [
        {
          "output_type": "stream",
          "name": "stdout",
          "text": [
            "Populating the interactive namespace from numpy and matplotlib\n"
          ]
        },
        {
          "output_type": "error",
          "ename": "NameError",
          "evalue": "name 'HTML' is not defined",
          "traceback": [
            "\u001b[0;31m---------------------------------------------------------------------------\u001b[0m",
            "\u001b[0;31mNameError\u001b[0m                                 Traceback (most recent call last)",
            "\u001b[0;32m<ipython-input-9-5f6fbbec5e81>\u001b[0m in \u001b[0;36m<cell line: 1>\u001b[0;34m()\u001b[0m\n\u001b[0;32m----> 1\u001b[0;31m \u001b[0mjupyter_settings\u001b[0m\u001b[0;34m(\u001b[0m\u001b[0;34m)\u001b[0m\u001b[0;34m\u001b[0m\u001b[0;34m\u001b[0m\u001b[0m\n\u001b[0m",
            "\u001b[0;32m<ipython-input-8-f759c1f5c558>\u001b[0m in \u001b[0;36mjupyter_settings\u001b[0;34m()\u001b[0m\n\u001b[1;32m     68\u001b[0m     \u001b[0mplt\u001b[0m\u001b[0;34m.\u001b[0m\u001b[0mrcParams\u001b[0m\u001b[0;34m[\u001b[0m\u001b[0;34m'figure.figsize'\u001b[0m\u001b[0;34m]\u001b[0m \u001b[0;34m=\u001b[0m \u001b[0;34m[\u001b[0m\u001b[0;36m25\u001b[0m\u001b[0;34m,\u001b[0m \u001b[0;36m12\u001b[0m\u001b[0;34m]\u001b[0m\u001b[0;34m\u001b[0m\u001b[0;34m\u001b[0m\u001b[0m\n\u001b[1;32m     69\u001b[0m     \u001b[0mplt\u001b[0m\u001b[0;34m.\u001b[0m\u001b[0mrcParams\u001b[0m\u001b[0;34m[\u001b[0m\u001b[0;34m'font.size'\u001b[0m\u001b[0;34m]\u001b[0m \u001b[0;34m=\u001b[0m \u001b[0;36m24\u001b[0m\u001b[0;34m\u001b[0m\u001b[0;34m\u001b[0m\u001b[0m\n\u001b[0;32m---> 70\u001b[0;31m     \u001b[0mdisplay\u001b[0m\u001b[0;34m(\u001b[0m \u001b[0mHTML\u001b[0m\u001b[0;34m(\u001b[0m \u001b[0;34m'<style>.container { width:100% !important; }</style>'\u001b[0m\u001b[0;34m)\u001b[0m \u001b[0;34m)\u001b[0m\u001b[0;34m\u001b[0m\u001b[0;34m\u001b[0m\u001b[0m\n\u001b[0m\u001b[1;32m     71\u001b[0m     \u001b[0mpd\u001b[0m\u001b[0;34m.\u001b[0m\u001b[0moptions\u001b[0m\u001b[0;34m.\u001b[0m\u001b[0mdisplay\u001b[0m\u001b[0;34m.\u001b[0m\u001b[0mmax_columns\u001b[0m \u001b[0;34m=\u001b[0m \u001b[0;32mNone\u001b[0m\u001b[0;34m\u001b[0m\u001b[0;34m\u001b[0m\u001b[0m\n\u001b[1;32m     72\u001b[0m     \u001b[0mpd\u001b[0m\u001b[0;34m.\u001b[0m\u001b[0moptions\u001b[0m\u001b[0;34m.\u001b[0m\u001b[0mdisplay\u001b[0m\u001b[0;34m.\u001b[0m\u001b[0mmax_rows\u001b[0m \u001b[0;34m=\u001b[0m \u001b[0;32mNone\u001b[0m\u001b[0;34m\u001b[0m\u001b[0;34m\u001b[0m\u001b[0m\n",
            "\u001b[0;31mNameError\u001b[0m: name 'HTML' is not defined"
          ]
        }
      ],
      "source": [
        "jupyter_settings()"
      ]
    },
    {
      "cell_type": "markdown",
      "metadata": {
        "id": "JVZaMKtIwswg"
      },
      "source": [
        "# 2.0 DESCRIÇÃO DOS DADOS"
      ]
    },
    {
      "cell_type": "code",
      "execution_count": null,
      "metadata": {
        "id": "srmhfJtxwswg"
      },
      "outputs": [],
      "source": [
        "#Copy de Segurança\n",
        "df_raw = df_merge_raw\n",
        "df1 = df_raw.copy()"
      ]
    },
    {
      "cell_type": "markdown",
      "metadata": {
        "id": "6pCVA3Eawswg"
      },
      "source": [
        "## 2.1 Rename Columns"
      ]
    },
    {
      "cell_type": "code",
      "execution_count": null,
      "metadata": {
        "id": "mUA3KV4Xwswg"
      },
      "outputs": [],
      "source": [
        "df1.columns"
      ]
    },
    {
      "cell_type": "code",
      "execution_count": null,
      "metadata": {
        "id": "20p0bQabwswh"
      },
      "outputs": [],
      "source": [
        "df1 = df_merge_raw"
      ]
    },
    {
      "cell_type": "code",
      "execution_count": null,
      "metadata": {
        "id": "O8qlt7fJwswh"
      },
      "outputs": [],
      "source": [
        "cols_old = ['Store', 'DayOfWeek', 'Date', 'Sales', 'Customers', 'Open', 'Promo',\n",
        "            'StateHoliday', 'SchoolHoliday', 'StoreType', 'Assortment',\n",
        "            'CompetitionDistance', 'CompetitionOpenSinceMonth',\n",
        "            'CompetitionOpenSinceYear', 'Promo2', 'Promo2SinceWeek',\n",
        "            'Promo2SinceYear', 'PromoInterval']\n",
        "\n",
        "snakecase = lambda x: inflection.underscore( x )\n",
        "\n",
        "cols_new = list( map(snakecase, cols_old))\n",
        "\n",
        "# Rename\n",
        "df1.columns = cols_new"
      ]
    },
    {
      "cell_type": "code",
      "execution_count": null,
      "metadata": {
        "id": "RsmYA4Powswh"
      },
      "outputs": [],
      "source": [
        "df_merge_raw.columns"
      ]
    },
    {
      "cell_type": "markdown",
      "metadata": {
        "id": "ophFmMsfwswi"
      },
      "source": [
        "## 2.2 Data Dimensions"
      ]
    },
    {
      "cell_type": "code",
      "execution_count": null,
      "metadata": {
        "id": "6-ku5sJRwswi"
      },
      "outputs": [],
      "source": [
        "print( 'Number of Rows: {}'.format( df1.shape[0] ))\n",
        "\n",
        "print( 'Number of Cols: {}'.format( df1.shape[1] ) )"
      ]
    },
    {
      "cell_type": "markdown",
      "metadata": {
        "id": "M_nT9JGiwswi"
      },
      "source": [
        "## 2.3 Data Types"
      ]
    },
    {
      "cell_type": "code",
      "execution_count": null,
      "metadata": {
        "id": "9rd9amsTwswi"
      },
      "outputs": [],
      "source": [
        "df1.dtypes"
      ]
    },
    {
      "cell_type": "code",
      "execution_count": null,
      "metadata": {
        "id": "VR6cMCd8wswj"
      },
      "outputs": [],
      "source": [
        "df1['date'] = pd.to_datetime( df1['date'] )\n",
        "df1.dtypes"
      ]
    },
    {
      "cell_type": "markdown",
      "metadata": {
        "id": "SojDpg6Zwswj"
      },
      "source": [
        "## 2.4 Check NA"
      ]
    },
    {
      "cell_type": "code",
      "execution_count": null,
      "metadata": {
        "id": "PJAJ-sOpwswj"
      },
      "outputs": [],
      "source": [
        "df1.isna().sum()"
      ]
    },
    {
      "cell_type": "markdown",
      "metadata": {
        "id": "6bNjCIncwswk"
      },
      "source": [
        "Três formas de lidar com null ou NaN\n",
        "1. Deletar    - (Caso tenha um conjunto grande de dados   )\n",
        "\n",
        "2. Substituir - ( Substitua os valores faltados pela média)\n",
        "\n",
        "3. Acresente  - ( Caso tenha muito conhecimento do negócio)"
      ]
    },
    {
      "cell_type": "markdown",
      "metadata": {
        "id": "OumPxU_Bwswk"
      },
      "source": [
        "## 2.5 Fillout Nan ou NULL"
      ]
    },
    {
      "cell_type": "code",
      "execution_count": null,
      "metadata": {
        "id": "HYSIQryCwswk"
      },
      "outputs": [],
      "source": [
        "precos = [100, 200, 300]\n",
        "impostos = list(map(lambda x: x * 0.3, precos))\n",
        "print(impostos)  # [30.0, 60.0, 90.0]\n"
      ]
    },
    {
      "cell_type": "code",
      "execution_count": null,
      "metadata": {
        "id": "ydehA4PKwswl"
      },
      "outputs": [],
      "source": [
        "df1['competition_distance'].max()"
      ]
    },
    {
      "cell_type": "markdown",
      "metadata": {
        "id": "n0YDuhJDwswm"
      },
      "source": [
        "* competition_distance\n",
        "\n",
        "            Vamos intepretar como a distânca sendo muito quando não tem registro, sendo que não tem concorrentes próximo.\n",
        "            Vamos então substituir onde tem o Nan para - maior do que maior distância dos dados.\n",
        "* competition_open_since_month\n",
        "\n",
        "            Vamos refletir sobre a ausência de dados para a coluna que informa quando o competidor abriu as portas,\n",
        "            como:\n",
        "    *       Primeiro, ele é uma loja que está antes de nós!\n",
        "    *       Alguém esqueceu de anotar quando ela surgiu\n",
        "\n",
        "\n",
        "* promo2_since_week\n",
        "\n",
        "            Ela informa a data da semana que a loja estava  na promo2, para informação está Nan:\n",
        "    *       Não estava em promo2\n",
        "    *       Alguém esqueceu de colocar"
      ]
    },
    {
      "cell_type": "code",
      "execution_count": null,
      "metadata": {
        "id": "s5EjWAyNwswn"
      },
      "outputs": [],
      "source": [
        "#competition_distance\n",
        "df1['competition_distance']         = df1['competition_distance'].apply( lambda x: 200000 if math.isnan( x ) else x)\n",
        "\n",
        "#competition_open_since_month\n",
        "df1['competition_open_since_month'] = df1.apply(lambda x: x['date'].month if math.isnan(x['competition_open_since_month']) else x['competition_open_since_month'], axis = 1)\n",
        "\n",
        "#competition_open_since_year\n",
        "df1['competition_open_since_year']  = df1.apply(lambda x: x['date'].year if  math.isnan(x['competition_open_since_year'])  else x['competition_open_since_year'], axis = 1)\n",
        "\n",
        "#promo2_since_week\n",
        "df1['promo2_since_week']            = df1.apply(lambda x: x['date'].week if  math.isnan(x['promo2_since_week']) else x['promo2_since_week'], axis = 1)\n",
        "\n",
        "#promo2_since_year\n",
        "df1['promo2_since_year']            = df1.apply(lambda x: x['date'].year if  math.isnan(x['promo2_since_year']) else x['promo2_since_year'], axis = 1)\n",
        "\n",
        "# axis = 1 p/ colunas"
      ]
    },
    {
      "cell_type": "markdown",
      "metadata": {
        "id": "dvrNDprhwswo"
      },
      "source": [
        "O uso do parâmetro axis no método apply() do Pandas controla a direção ao longo da qual a função é aplicada. Vamos entender melhor:\n",
        "\n",
        "axis:\n",
        "\n",
        "axis=0 (ou 'index'): Aplica a função a cada coluna (verticalmente).\n",
        "\n",
        "axis=1 (ou 'columns'): Aplica a função a cada linha (horizontalmente).\n",
        "\n",
        "No seu código:\n",
        "\n",
        "A coluna competition_open_since_month está sendo modificada com a aplicação da função apply().\n",
        "\n",
        "O lambda verifica se o valor atual da célula é NaN (indicando que não há mês de abertura da competição registrado).\n",
        "\n",
        "Se for NaN, ele usa o mês da coluna date como valor; caso contrário, mantém o valor existente.\n",
        "\n",
        "Em resumo, o uso de axis=1 garante que a função seja aplicada linha a linha, considerando os valores das colunas relevantes. 😊"
      ]
    },
    {
      "cell_type": "code",
      "execution_count": null,
      "metadata": {
        "id": "DHOZr0VCwswp"
      },
      "outputs": [],
      "source": [
        "#promo_interval\n",
        "month_map = {1 : 'Jan', 2 : 'Feb', 3 : 'Mar', 4 : 'Apr', 5 : 'May',\n",
        " 6 : 'Jun', 7 : 'Jul', 8 : 'Aug', 9: 'Sep', 10: 'Oct', 11 :'Nov', 12 : 'Dec'}\n",
        "\n",
        "# Onde não tem informação na coluna 'promo_interval',\n",
        "#df1['promo_interval'].fillna(0, inplace = True)\n",
        "df1.fillna({'promo_interval': 0}, inplace = True) # forma sugeria pela atualização do pandas\n",
        "\n",
        "# Criando uma coluna com mêses\n",
        "df1['month_map'] = df1['date'].dt.month.map( month_map )\n",
        "\n",
        "\n",
        "df1['is_promo'] = df1[['promo_interval', 'month_map']].apply( lambda x : 0 if x['promo_interval'] == 0 else 1 if x['month_map'] in x['promo_interval'].split(',') else 0, axis = 1 ) # axis específica a direção\n",
        "# df1['is_promo'] vai ser um ou zero depende da regra da function criada\n",
        "#dtype: int64\n"
      ]
    },
    {
      "cell_type": "code",
      "execution_count": null,
      "metadata": {
        "id": "4CVfLQCKwswq"
      },
      "outputs": [],
      "source": [
        "df1.sample(20).T"
      ]
    },
    {
      "cell_type": "code",
      "execution_count": null,
      "metadata": {
        "scrolled": true,
        "id": "FSLHVuu1wswq"
      },
      "outputs": [],
      "source": [
        "df1.isna().sum()"
      ]
    },
    {
      "cell_type": "markdown",
      "metadata": {
        "id": "4HXRjpgZwswr"
      },
      "source": [
        "## 2.6 Change Types"
      ]
    },
    {
      "cell_type": "code",
      "execution_count": null,
      "metadata": {
        "id": "0jKFQtxEwsw6"
      },
      "outputs": [],
      "source": [
        "df1.dtypes"
      ]
    },
    {
      "cell_type": "code",
      "execution_count": null,
      "metadata": {
        "id": "4TmRZSRNwsw6"
      },
      "outputs": [],
      "source": [
        "df1['competition_open_since_month'] = df1['competition_open_since_month'].astype( int )\n",
        "df1['competition_open_since_year']  = df1['competition_open_since_year'].astype( int )\n",
        "df1['promo2_since_week']            = df1['promo2_since_week'].astype( int )\n",
        "df1['promo2_since_year']            = df1['promo2_since_year'].astype( int )"
      ]
    },
    {
      "cell_type": "code",
      "execution_count": null,
      "metadata": {
        "id": "3dKEDupOwsw7"
      },
      "outputs": [],
      "source": [
        "df1.dtypes"
      ]
    },
    {
      "cell_type": "markdown",
      "metadata": {
        "id": "N76tybzLwsw7"
      },
      "source": [
        "## 2.7 Descriptive Statistical"
      ]
    },
    {
      "cell_type": "code",
      "execution_count": null,
      "metadata": {
        "id": "WnXtuOjewsw7"
      },
      "outputs": [],
      "source": [
        "num_atributes =  df1.select_dtypes( include = ['int32','int64', 'float64'] )\n",
        "cat_atributes =  df1.select_dtypes( exclude = ['int32','int64', 'float64', 'datetime64[ns]'] )"
      ]
    },
    {
      "cell_type": "code",
      "execution_count": null,
      "metadata": {
        "id": "qKP1Hq4dwsw7"
      },
      "outputs": [],
      "source": [
        "num_atributes.sample(2)"
      ]
    },
    {
      "cell_type": "code",
      "execution_count": null,
      "metadata": {
        "id": "8j-yal-Ewsw8"
      },
      "outputs": [],
      "source": [
        "cat_atributes.dtypes"
      ]
    },
    {
      "cell_type": "markdown",
      "metadata": {
        "id": "Avdw0l00wsw8"
      },
      "source": [
        "## 2.7.1 Numerical Atributes"
      ]
    },
    {
      "cell_type": "code",
      "execution_count": null,
      "metadata": {
        "id": "Vzhrwsmswsw8"
      },
      "outputs": [],
      "source": [
        "# Central Tendency - Mean, median\n",
        "ct1 = pd.DataFrame( num_atributes.apply( np.mean ) ).T\n",
        "\n",
        "ct2 = pd.DataFrame( num_atributes.apply( np.median) ).T\n",
        "\n",
        "# Dispersion - std, min, max, range, skew, kurtosis\n",
        "d1 = pd.DataFrame( num_atributes.apply(np.std)).T\n",
        "d2 = pd.DataFrame( num_atributes.apply(min)).T\n",
        "d3 = pd.DataFrame( num_atributes.apply(max)).T\n",
        "d4 = pd.DataFrame( num_atributes.apply( lambda x: x.max() - x.min())).T\n",
        "d5 = pd.DataFrame( num_atributes.apply( lambda x: x.skew() )).T\n",
        "d6 = pd.DataFrame( num_atributes.apply( lambda x: x.kurtosis() )).T\n",
        "\n",
        "m = pd.concat([d2, d3, d4, ct1, ct2, d1, d5, d6]).T.reset_index()\n",
        "m.columns = ['atributes', 'min', 'max', 'range', 'mean', 'median', 'std', 'skew', 'kurtosis']\n",
        "\n"
      ]
    },
    {
      "cell_type": "code",
      "execution_count": null,
      "metadata": {
        "id": "NZR9OyqJwsw9"
      },
      "outputs": [],
      "source": [
        "m"
      ]
    },
    {
      "cell_type": "markdown",
      "metadata": {
        "id": "iMvxyLhHwsw9"
      },
      "source": [
        "O que é skew e Kurtosis ?\n",
        "\n",
        "Claro! Vamos explorar esses conceitos:\n",
        "\n",
        "1. **Assimetria (Skewness)**:\n",
        "   - A **assimetria** mede o grau de inclinação de uma distribuição de dados.\n",
        "   - Se a cauda da distribuição se estende mais para a direita, temos uma **assimetria positiva**.\n",
        "   - Se a cauda se estende mais para a esquerda, temos uma **assimetria negativa**.\n",
        "   - Uma distribuição normal perfeita tem assimetria igual a zero.\n",
        "   - A assimetria influencia escolhas estatísticas e transformações de dados⁴.\n",
        "\n",
        "2. **Curtose (Kurtosis)**:\n",
        "   - A **curtose** está relacionada aos picos e caudas de uma distribuição.\n",
        "   - Ela mede o quanto a distribuição é \"pontuda\" ou \"achatada\".\n",
        "   - Existem três tipos de curtose:\n",
        "     - **Mesocúrtica**: semelhante à distribuição normal.\n",
        "     - **Leptocúrtica**: mais pontuda que a normal.\n",
        "     - **Platicúrtica**: mais achatada que a normal.\n",
        "   - A curtose padrão para uma distribuição normal é 3.\n",
        "   - A curtose afeta a escolha de técnicas estatísticas e modelagem⁴.\n",
        "\n",
        "Em resumo, a **assimetria** indica a inclinação dos dados, enquanto a **curtose** está relacionada aos picos e caudas da distribuição. Ambas são importantes para entender e modelar dados estatísticos. 😊\n",
        "\n",
        "\n",
        "\n",
        "[(X) Ler!| () Lido](https://www.datacamp.com/pt/tutorial/understanding-skewness-and-kurtosis)"
      ]
    },
    {
      "cell_type": "code",
      "execution_count": null,
      "metadata": {
        "id": "VS39jg7Owsw9"
      },
      "outputs": [],
      "source": [
        "sns.distplot( df1['sales']  )"
      ]
    },
    {
      "cell_type": "code",
      "execution_count": null,
      "metadata": {
        "id": "7BG5zW4hwsw9"
      },
      "outputs": [],
      "source": [
        "sns.distplot( df1['competition_distance']  )"
      ]
    },
    {
      "cell_type": "markdown",
      "metadata": {
        "id": "YgZb7vG1wsw-"
      },
      "source": [
        "## 2.7.2 Categorical Atributos"
      ]
    },
    {
      "cell_type": "code",
      "execution_count": null,
      "metadata": {
        "id": "dh-Vm7eBwsw-"
      },
      "outputs": [],
      "source": [
        "cat_atributes.apply( lambda x: x.unique().shape[0])"
      ]
    },
    {
      "cell_type": "code",
      "execution_count": null,
      "metadata": {
        "id": "ylG14yRuwsw_"
      },
      "outputs": [],
      "source": [
        "sns.boxplot(x = 'state_holiday', y='sales' , data=df1)"
      ]
    },
    {
      "cell_type": "code",
      "execution_count": null,
      "metadata": {
        "id": "CLSq5Jovwsw_"
      },
      "outputs": [],
      "source": [
        "# melhorando a visualização removedo dias que não vendeu\n",
        "#StateHoliday - indica um feriado estadual. Normalmente todas as lojas, com poucas exceções, fecham nos feriados estaduais.\n",
        "#Observe que todas as escolas estão fechadas nos feriados e fins de semana. a = feriado, b = feriado de Páscoa, c = Natal, 0 = Nenhum\n",
        "\n",
        "aux1 = df1[ (df1['state_holiday'] != '0' ) & ( df1['sales']> 0 ) ]\n",
        "plt.figure(figsize=(13, 8))\n",
        "\n",
        "plt.subplot(1, 3, 1 )\n",
        "sns.boxplot(x = 'state_holiday', y='sales' , data=aux1)\n",
        "\n",
        "\n",
        "plt.subplot(1, 3, 2 )\n",
        "sns.boxplot(x = 'store_type', y='sales' , data=aux1)\n",
        "\n",
        "\n",
        "plt.subplot(1, 3, 3 )\n",
        "sns.boxplot(x = 'assortment', y='sales' , data=aux1)\n",
        "\n",
        "\n"
      ]
    },
    {
      "cell_type": "code",
      "execution_count": null,
      "metadata": {
        "id": "NS3He8nQwsw_"
      },
      "outputs": [],
      "source": [
        "\n",
        "\n",
        "# Dados de exemplo\n",
        "aux1 = df1[(df1['state_holiday'] != '0') & (df1['sales'] > 0)]\n",
        "\n",
        "plt.figure(figsize=(13, 8))\n",
        "\n",
        "# Defina as cores para cada categoria\n",
        "colors_state_holiday = {'a': 'red', 'b': 'blue', 'c': 'green', 'd': 'purple'}\n",
        "\n",
        "plt.subplot(1, 3, 1)\n",
        "sns.boxplot(x='state_holiday', y='sales', data=aux1, palette=colors_state_holiday)\n",
        "plt.title('Vendas por State Holiday')\n",
        "plt.xlabel('State Holiday')\n",
        "plt.ylabel('Vendas')\n",
        "\n",
        "plt.show()\n"
      ]
    },
    {
      "cell_type": "code",
      "execution_count": null,
      "metadata": {
        "id": "5nwydiu5wsxA"
      },
      "outputs": [],
      "source": [
        "# Defina as cores para cada categoria\n",
        "colors_store_type = {'a': 'orange', 'b': 'cyan', 'c': 'yellow', 'd': 'pink'}\n",
        "\n",
        "plt.figure(figsize=(13, 8))\n",
        "\n",
        "plt.subplot(1, 3, 2)\n",
        "sns.boxplot(x='store_type', y='sales', data=aux1, palette=colors_store_type)\n",
        "plt.title('Vendas por Store Type')\n",
        "plt.xlabel('Store Type')\n",
        "plt.ylabel('Vendas')\n",
        "\n",
        "plt.show()\n"
      ]
    },
    {
      "cell_type": "code",
      "execution_count": null,
      "metadata": {
        "id": "YHKrXKdTwsxA"
      },
      "outputs": [],
      "source": [
        "# Defina as cores para cada categoria\n",
        "colors_assortment = {'a': 'gold', 'b': 'lime', 'c': 'blue'}\n",
        "\n",
        "plt.figure(figsize=(13, 8))\n",
        "\n",
        "plt.subplot(1, 3, 3)\n",
        "sns.boxplot(x='assortment', y='sales', data=aux1, palette=colors_assortment)\n",
        "plt.title('Vendas por Assortment')\n",
        "plt.xlabel('Assortment')\n",
        "plt.ylabel('Vendas')\n",
        "\n",
        "plt.show()\n"
      ]
    },
    {
      "cell_type": "markdown",
      "metadata": {
        "id": "iYQSnZYbwsxA"
      },
      "source": [
        "Como funciona boxplot\n",
        "qual é a regra para outilier"
      ]
    },
    {
      "cell_type": "markdown",
      "metadata": {
        "id": "mpVieUzSwsxB"
      },
      "source": [
        "# 3.0 Passo 02 - FEACTURE ENGINEERING"
      ]
    },
    {
      "cell_type": "code",
      "execution_count": null,
      "metadata": {
        "id": "PJRtnsOOwsxB"
      },
      "outputs": [],
      "source": [
        "df2 = df1.copy()"
      ]
    },
    {
      "cell_type": "code",
      "execution_count": null,
      "metadata": {
        "id": "9ydtz3gQwsxB"
      },
      "outputs": [],
      "source": [
        "#Image('img/MindMapHypothesis.png')"
      ]
    },
    {
      "cell_type": "markdown",
      "metadata": {
        "id": "HcQ6st42wsxC"
      },
      "source": [
        "## 3.1. Criacao das Hipoteses"
      ]
    },
    {
      "cell_type": "markdown",
      "metadata": {
        "id": "umZR15RgwsxC"
      },
      "source": [
        "2.1.1. Hipoteses Loja"
      ]
    },
    {
      "cell_type": "markdown",
      "metadata": {
        "id": "DGiBxp9JwsxC"
      },
      "source": [
        "**1.** Lojas com número maior de funcionário deveriam vende mais.\n",
        "\n",
        "**2.** Lojas com maior capacidade de estoque deveriam vender mais.\n",
        "\n",
        "**3.** Lojas com maior porte deverim vender mais.\n",
        "\n",
        "**4.** Lojas com maior sortimentos deveriam vender mais.\n",
        "\n",
        "**5.** Lojas com competidores mais próximos deveriam vender menos.\n",
        "\n",
        "**6.** Lojas com competidores à mais tempo deveriam vendem mais."
      ]
    },
    {
      "cell_type": "markdown",
      "metadata": {
        "id": "x4CQcQP3wsxD"
      },
      "source": [
        "2.1.2. Hipoteses Produto"
      ]
    },
    {
      "cell_type": "markdown",
      "metadata": {
        "id": "j-nF_5SbwsxD"
      },
      "source": [
        "**1.** Lojas que investem mais em Markting deveriam vender mais.\n",
        "\n",
        "**2.** Lojas que expõem mais os produtos nas vitrines deveriam vender mais.\n",
        "\n",
        "**3.** Lojas que tem menor preços nos produtos deveriam vender mais.\n",
        "\n",
        "**4.** Lojas que tem preço menores por mais tempo nos produtos deveriam vender mais.\n",
        "\n",
        "**5.** Lojas com promoções ativas por mais tempo deveriam vender mais.\n",
        "\n",
        "**6.** Lojas com mais dias de promoção deveriam vender mais.\n",
        "\n",
        "**7.** Lojas cocm mais promoções consecutivas deveriam vender mais.\n",
        "\n"
      ]
    },
    {
      "cell_type": "markdown",
      "metadata": {
        "id": "5I9h7nplwsxD"
      },
      "source": [
        "2.1.3. Hipoteses Tempo"
      ]
    },
    {
      "cell_type": "markdown",
      "metadata": {
        "id": "kPvbVgOzwsxE"
      },
      "source": [
        "**1.** Lojas abertas durante o feriado de Natal deveriam vender mais.\n",
        "\n",
        "**2.** Lojas deveriam vender mais ao longo dos anos.\n",
        "\n",
        "**3.** Lojas deveriam venderr mais no segundo semeestre do ano.\n",
        "\n",
        "**4.** Lojas deveriam vender mais depois do dia 10 de cada mês.\n",
        "\n",
        "**5.** Lojas deveriam vender menos aos finais de semana.\n",
        "\n",
        "**6.** Lojas deveriam venderr menos durante os feriados escolares\n"
      ]
    },
    {
      "cell_type": "markdown",
      "metadata": {
        "id": "ShwFCmuwwsxE"
      },
      "source": [
        "## 3.1.4 Hipoteses finais\n",
        "vamos avaliar quais das hipóteses gerada eu tenho dados que me ajude a provar ou encontrar correlação.\n",
        "\n",
        "                    --Lojas--\n",
        "\n",
        "**1.** Lojas com maior sortimentos deveriam vender mais.\n",
        "\n",
        "**1.** Lojas com competidores mais próximos deveriam vender menos.\n",
        "\n",
        "**1.** Lojas com competidores á mais tempo deveriam vender mais\n",
        "                    \n",
        "                    --Tempo--\n",
        "\n",
        "**1.** Lojas cbertas durante o feriado de Natal deveriam vender mais.\n",
        "\n",
        "**2.** Lojas deveriam vender mais ao longo dos anos.\n",
        "\n",
        "**3.** Lojas deveriam vender mais no segundo semestre do ano.\n",
        "\n",
        "**4.** Lojas deveriam vender mais depois do dia 10 de cada mês.\n",
        "\n",
        "**5.** Lojas deveriam vender menos aos finais de semana.\n",
        "\n",
        "**6.** Lojas deveriam vender menos durante os feriados escolares."
      ]
    },
    {
      "cell_type": "markdown",
      "metadata": {
        "id": "P_uMaGFNwsxF"
      },
      "source": [
        "## Feature Engineering"
      ]
    },
    {
      "cell_type": "code",
      "execution_count": null,
      "metadata": {
        "id": "4fZhw18OwsxF"
      },
      "outputs": [],
      "source": [
        "# year\n",
        "df2['year'] = df2['date'].dt.year\n",
        "# month\n",
        "df2['month'] = df2['date'].dt.month\n",
        "# day\n",
        "df2['day'] = df2['date'].dt.day\n",
        "# week of year\n",
        "#df2['week_of_year'] = df2['date'].dt.weekofyear\n",
        "df2['week_of_year'] = df2['date'].dt.isocalendar().week\n",
        "\n",
        "# year week\n",
        "df2['year_week'] = df2['date'].dt.strftime( '%Y-%W' )"
      ]
    },
    {
      "cell_type": "code",
      "execution_count": null,
      "metadata": {
        "id": "dcSYwbGnwsxF"
      },
      "outputs": [],
      "source": [
        "# competition since\n",
        "df2['competition_since'] = df2.apply( lambda x: datetime.datetime(year=x['competition_open_since_year'], month=x['competition_open_since_month'], day=1 ), axis=1 )\n",
        "\n",
        "\n",
        "df2['competition_time_month'] = ( ( df2['date'] - df2['competition_since'] )/30).apply( lambda x: x.days ).astype( int )\n",
        "\n",
        "\n",
        "# promo since\n",
        "df2['promo_since'] = df2['promo2_since_year'].astype( str ) + '-' + df2['promo2_since_week'].astype( str )\n",
        "\n",
        "\n",
        "df2['promo_since'] = df2['promo_since'].apply( lambda x: datetime.datetime.strptime( x + '-1', '%Y-%W-%w' ) - datetime.timedelta( days=7 ) )\n",
        "\n",
        "\n",
        "df2['promo_time_week'] = ( ( df2['date'] - df2['promo_since'] )/7 ).apply(lambda x: x.days ).astype( int )\n",
        "# assortment\n",
        "\n",
        "\n",
        "\n",
        "df2['assortment'] = df2['assortment'].apply( lambda x: 'basic' if x == 'a' else'extra' if x == 'b' else 'extended' )\n",
        "# state holiday\n",
        "df2['state_holiday'] = df2['state_holiday'].apply( lambda x: 'public_holiday' if x == 'a' else 'easter_holiday' if x == 'b' else 'christmas' if x == 'c' else 'regular_day' )\n"
      ]
    },
    {
      "cell_type": "markdown",
      "metadata": {
        "id": "O2HEc-_KwsxH"
      },
      "source": [
        "#  4.0. PASSO 03 - FILTRAGEM DE VARIÁVEIS"
      ]
    },
    {
      "cell_type": "code",
      "execution_count": null,
      "metadata": {
        "id": "EMexyJa5wsxJ"
      },
      "outputs": [],
      "source": [
        "df3 = df2.copy()"
      ]
    },
    {
      "cell_type": "markdown",
      "metadata": {
        "id": "hnvmZTJWwsxJ"
      },
      "source": [
        "## 4.1. Filtragem das Linhas"
      ]
    },
    {
      "cell_type": "code",
      "execution_count": null,
      "metadata": {
        "id": "ImBTuF9dwsxK"
      },
      "outputs": [],
      "source": [
        "df3 = df3[(df3['open'] != 0) & (df3['sales'] > 0)]"
      ]
    },
    {
      "cell_type": "markdown",
      "metadata": {
        "id": "OJzrGDx9wsxL"
      },
      "source": [
        "## 4.2. Selecao das Colunas"
      ]
    },
    {
      "cell_type": "code",
      "execution_count": null,
      "metadata": {
        "id": "_J9c4t9QwsxL"
      },
      "outputs": [],
      "source": [
        "cols_drop = ['customers', 'open', 'promo_interval', 'month_map']\n",
        "df3 = df3.drop( cols_drop, axis=1 )"
      ]
    },
    {
      "cell_type": "markdown",
      "metadata": {
        "id": "wHy1fs4uwsxM"
      },
      "source": [
        "#  5.0. PASSO 05 - ANALISE EXPLORATORIA DOS DADOS"
      ]
    },
    {
      "cell_type": "code",
      "execution_count": null,
      "metadata": {
        "id": "u-e9CI8LwsxM"
      },
      "outputs": [],
      "source": [
        "df4 = df3.copy()"
      ]
    },
    {
      "cell_type": "markdown",
      "metadata": {
        "id": "QWFTpXZHwsxN"
      },
      "source": [
        "## 5.1 Analise Univariada"
      ]
    },
    {
      "cell_type": "markdown",
      "metadata": {
        "id": "o-va1YnJwsxN"
      },
      "source": [
        "A análise univariada, parte fundamental da AED, concentra-se em uma única variável. Ela envolve classificar a variável quanto ao tipo (qualitativa ou quantitativa) e obter tabelas, gráficos e medidas que resumam essa variável12. Por exemplo, podemos calcular a média, mediana, moda e intervalo dos dados3"
      ]
    },
    {
      "cell_type": "code",
      "execution_count": null,
      "metadata": {
        "scrolled": true,
        "id": "KDM0D_y_wsxO"
      },
      "outputs": [],
      "source": [
        "sns.distplot( df4['sales'], kde=True)"
      ]
    },
    {
      "cell_type": "markdown",
      "metadata": {
        "id": "rc7HlE9BwsxO"
      },
      "source": [
        "## 4.1.2. Numerical Variable"
      ]
    },
    {
      "cell_type": "markdown",
      "metadata": {
        "id": "e5202L-qwsxP"
      },
      "source": [
        "O objetivo da AED é entender a natureza dos dados, identificar tendências e avaliar a qualidade dos dados. Não se trata apenas de criar visualizações sofisticadas; o foco é obter insights e respostas a partir dos dados. AED é uma prática iterativa, permitindo ajustes conforme novos insights surgem. Existem dois tipos principais de dados estruturados: variáveis categóricas (com valores finitos) e valores numéricos (contínuos).12"
      ]
    },
    {
      "cell_type": "code",
      "execution_count": null,
      "metadata": {
        "id": "uDHlpb_mwsxP"
      },
      "outputs": [],
      "source": [
        "num_atributes.hist( bins = 25)"
      ]
    },
    {
      "cell_type": "markdown",
      "metadata": {
        "id": "9V8fyv6OwsxQ"
      },
      "source": [
        "## 5.2. Categorical Variable"
      ]
    },
    {
      "cell_type": "code",
      "execution_count": null,
      "metadata": {
        "id": "NNeExhDwwsxQ"
      },
      "outputs": [],
      "source": [
        "# Vamos viasualizar as variáveis categoricas\n",
        "df4.dtypes"
      ]
    },
    {
      "cell_type": "markdown",
      "metadata": {
        "id": "6jgRuz9BwsxR"
      },
      "source": [
        "A kernel density estimate (KDE) plot is a method for visualizing the distribution of observations in a dataset, analogous to a histogram. KDE represents the data using a continuous probability density curve in one or more dimensions."
      ]
    },
    {
      "cell_type": "markdown",
      "metadata": {
        "id": "TBiu7BTLwsxR"
      },
      "source": [
        "A count plot can be thought of as a histogram across a categorical, instead of quantitative, variable"
      ]
    },
    {
      "cell_type": "code",
      "execution_count": null,
      "metadata": {
        "id": "zKW8pB4GwsxS"
      },
      "outputs": [],
      "source": [
        "# state_holiday\n",
        "plt.subplot( 3, 2, 1 )\n",
        "a = df4[df4['state_holiday'] != 'regular_day']\n",
        "sns.countplot( a['state_holiday'] );\n",
        "#sns.countplot(a, x=\"state_holiday\" );\n",
        "\n",
        "plt.subplot(3, 2, 2);\n",
        "sns.kdeplot(df4[ df4['state_holiday'] == 'public_holiday']['sales'], label = 'public_holiday', fill = True,  legend=True )\n",
        "sns.kdeplot(df4[ df4['state_holiday'] == 'easter_holiday']['sales'], label = 'easter_holiday', fill = True,  legend=True)\n",
        "sns.kdeplot(df4[ df4['state_holiday'] == 'christmas']['sales'], label = 'christmas', fill = True,  legend=True)\n",
        "\n",
        "# store_type\n",
        "plt.subplot(3 , 2, 3)\n",
        "sns.countplot(df4['store_type'])\n",
        "\n",
        "plt.subplot(3, 2, 4 )\n",
        "sns.kdeplot( df4[df4['store_type'] == 'a']['sales'], label  = 'a', fill = True )\n",
        "sns.kdeplot( df4[df4['store_type'] == 'b']['sales'], label  = 'b', fill = True)\n",
        "sns.kdeplot( df4[df4['store_type'] == 'c']['sales'], label  = 'c', fill = True)\n",
        "sns.kdeplot( df4[df4['store_type'] == 'd']['sales'], label  = 'd', fill = True)\n",
        "\n",
        "# assortment\n",
        "plt.subplot(3 , 2, 5)\n",
        "sns.countplot(df4['assortment'])\n",
        "\n",
        "plt.subplot(3, 2, 6)\n",
        "sns.kdeplot(df4[df4['assortment'] == 'extended'], label = 'extended', fill = True)\n",
        "sns.kdeplot(df4[df4['assortment'] == 'basic'],    label = 'basic',    fill = True)\n",
        "sns.kdeplot(df4[df4['assortment'] == 'extra'],    label = 'extra',    fill = True)"
      ]
    },
    {
      "cell_type": "code",
      "execution_count": null,
      "metadata": {
        "id": "IbcXhAtMwsxS"
      },
      "outputs": [],
      "source": [
        "# state_holiday\n",
        "plt.subplot( 3, 2, 1 )\n",
        "a = df4[df4['state_holiday'] != 'regular_day']\n",
        "sns.countplot( a['state_holiday'] )\n",
        "plt.subplot( 3, 2, 2 )\n",
        "sns.kdeplot( df4[df4['state_holiday'] == 'public_holiday']['sales'], label='public_holiday', fill=True )\n",
        "sns.kdeplot( df4[df4['state_holiday'] == 'easter_holiday']['sales'], label='easter_holiday', fill=True )\n",
        "sns.kdeplot( df4[df4['state_holiday'] == 'christmas']['sales'], label='christmas', fill=True )\n",
        "\n",
        "# store_type\n",
        "plt.subplot( 3, 2, 3 )\n",
        "sns.countplot( df4['store_type'] )\n",
        "plt.subplot( 3, 2, 4 )\n",
        "sns.kdeplot( df4[df4['store_type'] == 'a']['sales'], label='a', fill=True )\n",
        "sns.kdeplot( df4[df4['store_type'] == 'b']['sales'], label='b', fill=True )\n",
        "sns.kdeplot( df4[df4['store_type'] == 'c']['sales'], label='c', fill=True )\n",
        "sns.kdeplot( df4[df4['store_type'] == 'd']['sales'], label='d', fill=True )\n",
        "\n",
        "# assortment\n",
        "plt.subplot( 3, 2, 5 )\n",
        "sns.countplot( df4['assortment'] )\n",
        "plt.subplot( 3, 2, 6 )\n",
        "sns.kdeplot( df4[df4['assortment'] == 'extended']['sales'], label='extended', fill=True )\n",
        "sns.kdeplot( df4[df4['assortment'] == 'basic']['sales'],    label='basic',    fill=True )\n",
        "sns.kdeplot( df4[df4['assortment'] == 'extra']['sales'],    label='extra',    fill=True )"
      ]
    },
    {
      "cell_type": "code",
      "execution_count": null,
      "metadata": {
        "scrolled": true,
        "id": "2R4ppqIswsxT"
      },
      "outputs": [],
      "source": [
        "a.head()"
      ]
    },
    {
      "cell_type": "markdown",
      "metadata": {
        "id": "q3EpIBEhwsxT"
      },
      "source": [
        "## 5.2. Analise Bivariada"
      ]
    },
    {
      "cell_type": "markdown",
      "metadata": {
        "id": "8_VOYrXPwsxT"
      },
      "source": [
        "### 5.2.1 H1. Lojas com maior sortimentos deveriam vender mais.\n",
        "**FALSA** Lojas com MAIOR SORTIMENTO vendem MENOS."
      ]
    },
    {
      "cell_type": "code",
      "execution_count": null,
      "metadata": {
        "id": "SIm6KePbwsxT"
      },
      "outputs": [],
      "source": [
        "a = df4.loc[:, ['assortment','sales'] ].groupby('assortment').sum()\n",
        "a.head()"
      ]
    },
    {
      "cell_type": "code",
      "execution_count": null,
      "metadata": {
        "id": "rZcdesBowsxU"
      },
      "outputs": [],
      "source": [
        "aux1 = df4.loc[:, ['assortment','sales'] ].groupby('assortment').sum().reset_index()\n",
        "a.head()"
      ]
    },
    {
      "cell_type": "code",
      "execution_count": null,
      "metadata": {
        "id": "JagD6rwOwsxU"
      },
      "outputs": [],
      "source": [
        "sns.barplot( x='assortment', y='sales', data=aux1 );"
      ]
    },
    {
      "cell_type": "markdown",
      "metadata": {
        "id": "JmoMJmTvwsxU"
      },
      "source": [
        "observe que extra tem menos na soma geral, de todas as lojas, vamos agora ver o comportamento das vendas durante o ano.\n"
      ]
    },
    {
      "cell_type": "code",
      "execution_count": null,
      "metadata": {
        "id": "MF9iTuCewsxV"
      },
      "outputs": [],
      "source": [
        "df4.head()"
      ]
    },
    {
      "cell_type": "code",
      "execution_count": null,
      "metadata": {
        "id": "HZqLXngrwsxV"
      },
      "outputs": [],
      "source": [
        "aux2 = df4[['year_week', 'assortment', 'sales']].groupby(['year_week', 'assortment']).sum().reset_index()\n",
        "aux2.head()\n",
        "aux2.pivot(index = 'year_week', columns = 'assortment', values = 'sales').plot()"
      ]
    },
    {
      "cell_type": "markdown",
      "metadata": {
        "id": "NixaTNUHwsxV"
      },
      "source": [
        "observe que comportamento do 'basic' e 'extended' são próximos, e que o comportamento extra parece o quanto tendendo a linear, contudo, ele tem uma escala menor que os outros e pode estar sendo influenciado por isto.\n"
      ]
    },
    {
      "cell_type": "code",
      "execution_count": null,
      "metadata": {
        "id": "cxATC0jywsxV"
      },
      "outputs": [],
      "source": [
        "a = df4[df4['assortment'] == 'extra']"
      ]
    },
    {
      "cell_type": "code",
      "execution_count": null,
      "metadata": {
        "id": "KvGzRbbNwsxW"
      },
      "outputs": [],
      "source": [
        "aux3 = a[['year_week', 'assortment', 'sales']].groupby(['year_week', 'assortment']).sum().reset_index()\n",
        "aux3.pivot(index = 'year_week', columns = 'assortment', values = 'sales').plot()\n"
      ]
    },
    {
      "cell_type": "markdown",
      "metadata": {
        "id": "2Qs0ox5CwsxW"
      },
      "source": [
        "Observe que ele não tem um comportamento que tende a linear, como gráfico anterior mostra!"
      ]
    },
    {
      "cell_type": "markdown",
      "metadata": {
        "id": "CUH-kzXHwsxW"
      },
      "source": [
        "### 5.2.2 H2. Lojas com competidores mais próximos deveriam vender menos.\n",
        "**FALSA** Lojas com COMPETIDORES MAIS PROXIMOS vendem MAIS."
      ]
    },
    {
      "cell_type": "markdown",
      "metadata": {
        "id": "xkebe_EewsxY"
      },
      "source": [
        "Pandas cut() function is used to separate the array elements into different bins . The cut function is mainly used to perform statistical analysis on scalar data"
      ]
    },
    {
      "cell_type": "code",
      "execution_count": null,
      "metadata": {
        "id": "rZP1Zd7UwsxZ"
      },
      "outputs": [],
      "source": [
        "# sales, competition_distance. aux3.pivot(index = 'year_week', columns = 'assortment', values = 'sales').plot()\n",
        "aux1 = df4[['competition_distance', 'sales']].groupby( 'competition_distance' ).sum().reset_index()\n",
        "#aux1.head(5)\n",
        "plt.subplot(1, 3, 1)\n",
        "sns.scatterplot(x = 'competition_distance', y = 'sales', data = aux1)\n",
        "\n",
        "plt.subplot(1, 3, 2)\n",
        "bins = list( np.arange( 0, 20000, 1000) ) # [0, 1000, 2000, 3000, 4000, 5000, 6000, 7000, 8000, 9000, 10000, 11000, 12000, 13000, 14000, 15000, 16000, 17000, 18000, 19000]\n",
        "aux1['competition_distance_binned'] = pd.cut( aux1['competition_distance'], bins=bins )\n",
        "\n",
        "aux2 = aux1[['competition_distance_binned', 'sales']].groupby('competition_distance_binned' ).sum().reset_index();\n",
        "\n",
        "sns.barplot(x = 'competition_distance_binned', y = 'sales', data= aux2);\n",
        "plt.xticks( rotation = 90)\n",
        "\n",
        "\n",
        "aux1 = df4[['competition_distance', 'sales']].groupby( 'competition_distance' ).sum().reset_index()\n",
        "plt.subplot( 1, 3, 3 )\n",
        "x = sns.heatmap( aux1.corr( method='pearson'), annot=True );\n",
        "bottom, top = x.get_ylim()\n",
        "x.set_ylim( bottom+0.5, top-0.5);\n"
      ]
    },
    {
      "cell_type": "code",
      "execution_count": null,
      "metadata": {
        "id": "-iX42RWWwsxa"
      },
      "outputs": [],
      "source": [
        "plt.figure(figsize=(16, 6))# Gera a figura\n",
        "heatmap= sns.heatmap(aux1.corr(), annot=True); # aux1.corr() gera a correlação\n",
        "heatmap.set_title('Correlation Heatmap', fontdict={'fontsize':12}, pad=12); # Adiciona título e formatação"
      ]
    },
    {
      "cell_type": "markdown",
      "metadata": {
        "id": "vBjH6BxNwsxb"
      },
      "source": [
        "heatmap o que é ?"
      ]
    },
    {
      "cell_type": "markdown",
      "metadata": {
        "id": "kpEfKgT3wsxc"
      },
      "source": [
        "o que é o método de pearson ?"
      ]
    },
    {
      "cell_type": "markdown",
      "metadata": {
        "id": "CuMKrq94wsxc"
      },
      "source": [
        "### 5.2.3 H3. Lojas com competidores à mais tempo deveriam vendem mais.\n",
        "FALSE Lojas com COMPETIDORES À MAIS TEMPO vendem MENOS."
      ]
    },
    {
      "cell_type": "code",
      "execution_count": null,
      "metadata": {
        "id": "j_8SMdLFwsxd"
      },
      "outputs": [],
      "source": [
        "#Quais anos estou trabalhando ?\n",
        "#df4['year'].unique() -> array([2015, 2014, 2013])\n",
        "#df4['competition_since'].unique() de 1998 a 2015 abriu lojas concorrentes"
      ]
    },
    {
      "cell_type": "code",
      "execution_count": null,
      "metadata": {
        "id": "arNOY6awwsxd"
      },
      "outputs": [],
      "source": [
        "df4['Duration_of_competition_in_years'] = df4['year'] - df4['competition_open_since_year'];\n",
        "\n",
        "aux1 = df4[['Duration_of_competition_in_years', 'sales']].groupby('Duration_of_competition_in_years').sum().reset_index();\n",
        "plt.subplot(1, 3, 1)\n",
        "sns.scatterplot(x ='Duration_of_competition_in_years' , y ='sales' , data = aux1);\n",
        "plt.xticks( rotation = 90);\n",
        "\n",
        "plt.subplot(1, 3, 2)\n",
        "sns.barplot(x ='Duration_of_competition_in_years' , y ='sales' , data = aux1)\n",
        "plt.xticks( rotation = 90);\n"
      ]
    },
    {
      "cell_type": "code",
      "execution_count": null,
      "metadata": {
        "id": "dRGDisc7wsxe"
      },
      "outputs": [],
      "source": [
        "#Como o professor fez\n",
        "plt.subplot( 1, 3, 1 )\n",
        "#Agrupando os dados que interessam\n",
        "aux1 = df4[['competition_time_month', 'sales']].groupby('competition_time_month' ).sum().reset_index()\n",
        "\n",
        "#seleção das variáveis importante e descartar o que não serve!\n",
        "aux2 = aux1[( aux1['competition_time_month'] < 120 ) & (aux1['competition_time_month'] != 0 )]\n",
        "sns.barplot( x='competition_time_month', y='sales', data=aux2 );\n",
        "plt.xticks( rotation=90 );\n",
        "plt.subplot( 1, 3, 2 )\n",
        "\n",
        "# Gerando um gráfico de regressão aos dados fornecido\n",
        "sns.regplot( x='competition_time_month', y='sales', data=aux2 );\n",
        "\n",
        "# Correlação\n",
        "plt.subplot( 1, 3, 3 )\n",
        "x = sns.heatmap( aux1.corr( method='pearson'), annot=True );\n",
        "bottom, top = x.get_ylim()\n",
        "x.set_ylim( bottom+0.5, top-0.5);"
      ]
    },
    {
      "cell_type": "markdown",
      "metadata": {
        "id": "gKbext9Cwsxe"
      },
      "source": [
        "### 5.2.4 H4. Lojas com promoções ativas por mais tempo deveriam vender mais.\n",
        "**FALSA** Lojas com promocoes ativas por mais tempo vendem menos, depois de um certo periodo\n",
        "de promocao"
      ]
    },
    {
      "cell_type": "markdown",
      "metadata": {
        "id": "_KxrnF_Hwsxf"
      },
      "source": [
        " Quais variáveis estão envolvidas\n",
        " *promo\n",
        " *promo2\n",
        " *promo2_since_week\n",
        " *promo2_since_year\n",
        " * Observar à página Kaggle sobre a datas da promo\n",
        " Detalhes\n",
        " *store_type\n",
        " *assortment\n",
        " *competition_distance\n",
        " *competition_open_since_month\n",
        " *competition_open_since_year"
      ]
    },
    {
      "cell_type": "code",
      "execution_count": null,
      "metadata": {
        "id": "rAh1dKMZwsxf"
      },
      "outputs": [],
      "source": [
        "df4.head()"
      ]
    },
    {
      "cell_type": "code",
      "execution_count": null,
      "metadata": {
        "id": "StrNvF5Hwsxg"
      },
      "outputs": [],
      "source": [
        "colunas = ['sales','promo_since',\t'promo_time_week',\n",
        "            'is_promo',\t'year',\t'month',\t'day',\t'week_of_year',\t'year_week',\n",
        "            'promo2',\t'promo2_since_week',\t'promo2_since_year',\n",
        "            'date',\t'promo', 'state_holiday'\t]"
      ]
    },
    {
      "cell_type": "code",
      "execution_count": null,
      "metadata": {
        "id": "GJqcKTGtwsxg"
      },
      "outputs": [],
      "source": [
        "dp= df4.loc[:,colunas]\n",
        "dp.dtypes"
      ]
    },
    {
      "cell_type": "code",
      "execution_count": null,
      "metadata": {
        "id": "38ZXn542wsxh"
      },
      "outputs": [],
      "source": [
        "dp = dp[dp['state_holiday'] == 'regular_day']"
      ]
    },
    {
      "cell_type": "code",
      "execution_count": null,
      "metadata": {
        "id": "eah1JhBmwsxh"
      },
      "outputs": [],
      "source": [
        "dp.loc[:,['is_promo', 'promo2', 'promo']].head()"
      ]
    },
    {
      "cell_type": "code",
      "execution_count": null,
      "metadata": {
        "id": "HS0sD_qPwsxi"
      },
      "outputs": [],
      "source": [
        "# Tem duas condições, is_promo and promo2 são o filtro\n",
        "# Vamos grupar sales, is_promo, promo2, promo2_since_week\n",
        "# dp['month'].unique() [ 7,  6,  5,  4,  3,  2,  1, 12, 11, 10,  9,  8])\n",
        "# Vamos gerar os seguintes gráficos\n",
        "# primeira figura observar venda por mês vamos filtra pela promos\n",
        "\n",
        "aux_p1 = dp[(dp['promo']  == 1) & (dp['promo2']  == 0)]\n",
        "\n",
        "aux_p1 =  aux_p1[['sales', 'month', ]].groupby('month').sum().reset_index()\n",
        "\n",
        "\n",
        "#---------------\n",
        "aux_p2 = dp[(dp['promo2']  == 1) & (dp['promo']  == 0)]\n",
        "\n",
        "aux_p2 =  aux_p2[['sales', 'month']].groupby('month').sum().reset_index()\n",
        "#---------------\n",
        "aux_p1_2 = dp[(dp['promo2']  == 1) & (dp['promo']  == 1)]\n",
        "\n",
        "aux_p1_2 =  aux_p1_2[['sales', 'month']].groupby('month').sum().reset_index()\n",
        "#---------------\n",
        "aux_p0 = dp[(dp['promo2']  == 0) & (dp['promo']  == 0) ]\n",
        "\n",
        "aux_p0 =  aux_p0[['sales', 'month']].groupby('month').sum().reset_index()\n",
        "\n",
        "\n",
        "\n"
      ]
    },
    {
      "cell_type": "code",
      "execution_count": null,
      "metadata": {
        "id": "nI-36pMhwsxj"
      },
      "outputs": [],
      "source": [
        "aux_p1.head()"
      ]
    },
    {
      "cell_type": "code",
      "execution_count": null,
      "metadata": {
        "id": "221dY78Mwsxj"
      },
      "outputs": [],
      "source": [
        "\n",
        "\n",
        "\n",
        "\n",
        "aux_p1['sales_p1'] = aux_p1['sales']\n",
        "\n",
        "aux_p2['sales_p2'] = aux_p2['sales']\n",
        "\n",
        "aux_p1_2['sales_p1_2'] = aux_p1_2['sales']\n",
        "\n",
        "aux_p0['sales_p0'] = aux_p0['sales']\n",
        "\n",
        "df_sale = pd.merge( aux_p1, aux_p2, how = 'left', on = 'month' )\n",
        "df_sals = pd.merge( aux_p0, aux_p1_2, how = 'left', on = 'month' )\n",
        "df_sales = pd.merge( df_sale, df_sals, how = 'left', on = 'month' )\n",
        "\n",
        "# Defina os valores para o eixo X (meses)\n",
        "x = df_sales['month']\n",
        "\n",
        "# Defina os valores para os eixos Y (vendas)\n",
        "y1 = df_sales['sales_p1']\n",
        "y2 = df_sales['sales_p2']\n",
        "y3 = df_sales['sales_p1_2']\n",
        "y4 = df_sales['sales_p0']\n",
        "\n",
        "# Crie o gráfico de barras\n",
        "plt.figure(figsize=(10, 10))\n",
        "plt.bar(x, y1, label='Sales P1')\n",
        "plt.bar(x, y2, label='Sales P2', bottom=y1)\n",
        "plt.bar(x, y3, label='Sales P1+2', bottom=y1+y2)\n",
        "plt.bar(x, y4, label='Sales P0', bottom=y1+y2+y3)\n",
        "\n",
        "# Personalize o gráfico (título, rótulos etc.)\n",
        "plt.xlabel('Month')\n",
        "plt.ylabel('Sales')\n",
        "plt.title('Monthly Sales by Product')\n",
        "plt.legend()\n",
        "\n",
        "# Exiba o gráfico\n",
        "plt.yscale('log')\n",
        "\n",
        "plt.show()\n",
        "\n"
      ]
    },
    {
      "cell_type": "code",
      "execution_count": null,
      "metadata": {
        "id": "M2YP126Vwsxk"
      },
      "outputs": [],
      "source": [
        "df_sales.head()"
      ]
    },
    {
      "cell_type": "code",
      "execution_count": null,
      "metadata": {
        "id": "e0G0KORewsxk"
      },
      "outputs": [],
      "source": [
        "import seaborn as sns\n",
        "import matplotlib.pyplot as plt\n",
        "\n",
        "# Crie um DataFrame com os dados aux_p1, aux_p2, aux_p1_2 e aux_p0\n",
        "#combined_data = pd.concat([aux_p1, aux_p2, aux_p1_2, aux_p0], axis=1)\n",
        "#combined_data.columns = ['Promo 1', 'Promo 2', 'Promo 1 e 2', 'Sem Promoção']\n",
        "\n",
        "# Plote o gráfico de barras\n",
        "plt.figure(figsize=(10, 6))\n",
        "sns.kdeplot(aux_p1['sales'],   label='Promo 1', fill = True)\n",
        "sns.kdeplot(aux_p2['sales'],   label='Promo 2',  fill = True)\n",
        "sns.kdeplot(aux_p1_2['sales'], label='Promo 1 e 2', fill = True)\n",
        "sns.kdeplot(aux_p0['sales'],   label='Sem Promoção', fill = True)\n",
        "\n",
        "# Personalize o gráfico\n",
        "plt.xlabel('Mês')\n",
        "plt.ylabel('Vendas')\n",
        "plt.title('Vendas por Mês com Diferentes Promoções')\n",
        "plt.legend()\n",
        "\n",
        "# Exiba o gráfico\n",
        "plt.show()\n"
      ]
    },
    {
      "cell_type": "code",
      "execution_count": null,
      "metadata": {
        "id": "7aV_FcQWwsxk"
      },
      "outputs": [],
      "source": [
        "\n",
        "\n",
        "# Crie um DataFrame com os dados aux_p1, aux_p2, aux_p1_2 e aux_p0\n",
        "#combined_data = pd.concat([aux_p1, aux_p2, aux_p1_2, aux_p0], axis=1)\n",
        "#combined_data.columns = ['Promo 1', 'Promo 2', 'Promo 1 e 2', 'Sem Promoção']\n",
        "# Atenção uma forma de colocar tudo em um gráfico só é juntar os dataset groups\n",
        "# Plote o gráfico de barras\n",
        "plt.figure(figsize=(10, 6))\n",
        "sns.scatterplot(x ='month' , y ='sales' , data = aux_p1,    legend='auto')\n",
        "sns.scatterplot(x ='month' , y ='sales' , data = aux_p2,   legend='auto')\n",
        "sns.scatterplot(x ='month' , y ='sales' , data = aux_p1_2,   legend='auto')\n",
        "sns.scatterplot(x ='month' , y ='sales' , data = aux_p0,   legend='auto' )\n",
        "# Personalize o gráfico\n",
        "plt.xlabel('Mês')\n",
        "plt.ylabel('Vendas')\n",
        "plt.title('Vendas por Mês com Diferentes Promoções')\n",
        "#plt.legend()\n",
        "\n",
        "# Exiba o gráfico\n",
        "plt.show()\n"
      ]
    },
    {
      "cell_type": "code",
      "execution_count": null,
      "metadata": {
        "id": "Qbeb5dJZwsxl"
      },
      "outputs": [],
      "source": [
        "aux1 =  dp[['sales', 'is_promo', 'promo2', 'month', 'promo2_since_year']].groupby('month').sum()\n",
        "aux1"
      ]
    },
    {
      "cell_type": "code",
      "execution_count": null,
      "metadata": {
        "id": "bE1T-I5Zwsxl"
      },
      "outputs": [],
      "source": [
        "#\n",
        "# sales pelo tempo de promoção gráfico 1 (na promo 1), gráfico 2 (na promo 2), gráfico 3 (na promo 1 e 2), gráfico 4 (sem promo) pela mês do ano\n",
        "dp = dp[dp['promo_time_week'] > 0 ]\n",
        "\n",
        "aux_p1 = dp[(dp['is_promo']  == 1) & (dp['promo2']  == 0)]\n",
        "\n",
        "aux_p1 =  aux_p1[['sales', 'promo_time_week', ]].groupby('promo_time_week').sum().reset_index()\n",
        "\n",
        "\n",
        "#---------------\n",
        "aux_p2 = dp[(dp['promo2']  == 1) & (dp['is_promo']  == 0)]\n",
        "\n",
        "aux_p2 =  aux_p2[['sales', 'promo_time_week']].groupby('promo_time_week').sum().reset_index()\n",
        "#---------------\n",
        "aux_p1_2 = dp[(dp['promo2']  == 1) & (dp['is_promo']  == 1)]\n",
        "\n",
        "aux_p1_2 =  aux_p1_2[['sales', 'promo_time_week']].groupby('promo_time_week').sum().reset_index()\n",
        "#---------------\n",
        "aux_p0 = dp[(dp['promo2']  == 0) & (dp['is_promo']  == 0) ]\n",
        "\n",
        "aux_p0 =  aux_p0[['sales', 'promo_time_week']].groupby('promo_time_week').sum().reset_index()"
      ]
    },
    {
      "cell_type": "code",
      "execution_count": null,
      "metadata": {
        "id": "Kj7b-1Vtwsxl"
      },
      "outputs": [],
      "source": [
        "dp['promo_time_week'].unique()"
      ]
    },
    {
      "cell_type": "code",
      "execution_count": null,
      "metadata": {
        "id": "WoBOw-luwsxm"
      },
      "outputs": [],
      "source": [
        "\n",
        "\n",
        "# Crie um DataFrame com os dados aux_p1, aux_p2, aux_p1_2 e aux_p0\n",
        "#combined_data = pd.concat([aux_p1, aux_p2, aux_p1_2, aux_p0], axis=1)\n",
        "#combined_data.columns = ['Promo 1', 'Promo 2', 'Promo 1 e 2', 'Sem Promoção']\n",
        "\n",
        "# Plote o gráfico de barras\n",
        "plt.figure(figsize=(10, 6))\n",
        "\n",
        "\n",
        "sns.scatterplot(x ='promo_time_week' , y ='sales' , data = aux_p1, label='Promo 1 ')\n",
        "sns.scatterplot(x ='promo_time_week' , y ='sales' , data = aux_p2 ,label='Promo 2')\n",
        "sns.scatterplot(x ='promo_time_week' , y ='sales' , data = aux_p1_2 ,label='Promo 1 e 2')\n",
        "sns.scatterplot(x ='promo_time_week' , y ='sales' , data = aux_p0 ,label='Sem promo')\n",
        "\n",
        "# Personalize o gráfico\n",
        "plt.xlabel('Mês')\n",
        "plt.ylabel('Vendas')\n",
        "plt.title('Vendas por Mês com Diferentes Promoções')\n",
        "plt.legend()\n",
        "\n",
        "# Exiba o gráfico\n",
        "plt.show()\n"
      ]
    },
    {
      "cell_type": "code",
      "execution_count": null,
      "metadata": {
        "id": "7J04ccbkwsxm"
      },
      "outputs": [],
      "source": [
        "import seaborn as sns\n",
        "import matplotlib.pyplot as plt\n",
        "\n",
        "# Crie um DataFrame com os dados aux_p1, aux_p2, aux_p1_2 e aux_p0\n",
        "#combined_data = pd.concat([aux_p1, aux_p2, aux_p1_2, aux_p0], axis=1)\n",
        "#combined_data.columns = ['Promo 1', 'Promo 2', 'Promo 1 e 2', 'Sem Promoção']\n",
        "\n",
        "# Plote o gráfico de barras\n",
        "plt.figure(figsize=(10, 6))\n",
        "\n",
        "\n",
        "sns.lineplot(x ='promo_time_week' , y ='sales' , data = aux_p1, label='Promo 1 ')\n",
        "sns.lineplot(x ='promo_time_week' , y ='sales' , data = aux_p2 ,label='Promo 2')\n",
        "sns.lineplot(x ='promo_time_week' , y ='sales' , data = aux_p1_2 ,label='Promo 1 e 2')\n",
        "sns.lineplot(x ='promo_time_week' , y ='sales' , data = aux_p0 ,label='Sem promo')\n",
        "\n",
        "# Personalize o gráfico\n",
        "plt.xlabel('Mês')\n",
        "plt.ylabel('Vendas')\n",
        "plt.title('Vendas por Mês com Diferentes Promoções')\n",
        "plt.legend()\n",
        "\n",
        "# Exiba o gráfico\n",
        "plt.show()\n"
      ]
    },
    {
      "cell_type": "code",
      "execution_count": null,
      "metadata": {
        "id": "sUU4tcHGwsxm"
      },
      "outputs": [],
      "source": [
        "#Professor fez\n",
        "\n",
        "#Agrupa as informações\n",
        "aux1 = df4[['promo_time_week', 'sales']].groupby( 'promo_time_week').sum().reset_index()\n",
        "grid = GridSpec( 2, 3 )\n",
        "\n",
        "plt.subplot( grid[0,0] )\n",
        "aux2 = aux1[aux1['promo_time_week'] > 0] # promo extendido\n",
        "sns.barplot( x='promo_time_week', y='sales', data=aux2 );\n",
        "# Mostra um gráfico de regressão com scaterr, uma tendência dos ponto\n",
        "plt.xticks( rotation=90 );\n",
        "plt.subplot( grid[0,1] )\n",
        "sns.regplot( x ='promo_time_week', y ='sales', data=aux2 );\n",
        "\n",
        "\n",
        "\n",
        "plt.subplot( grid[1,0] )\n",
        "\n",
        "aux3 = aux1[aux1['promo_time_week'] < 0] # promo regular\n",
        "sns.barplot( x='promo_time_week', y='sales', data=aux3 );\n",
        "plt.xticks( rotation=90 );\n",
        "\n",
        "plt.subplot( grid[1,1] )\n",
        "sns.regplot( x='promo_time_week', y='sales', data=aux3 );\n",
        "plt.subplot( grid[:,2] )\n",
        "sns.heatmap( aux1.corr( method='pearson' ), annot=True );"
      ]
    },
    {
      "cell_type": "markdown",
      "metadata": {
        "id": "PjiIEUPqwsxn"
      },
      "source": [
        "~5.2.5 H5. Lojas com mais dias de promoção deveriam vender mais.~\n",
        "## 5.2.6 H7. Lojas com mais promoções consecutivas deveriam vender mais.\n",
        "FALSA Lojas com mais promocoes consecutivas vendem menos"
      ]
    },
    {
      "cell_type": "code",
      "execution_count": null,
      "metadata": {
        "id": "XHxROtagwsxp"
      },
      "outputs": [],
      "source": [
        "#Segundo a HIPÓTESE a ser analisada existem dois tipos de LoJAS que promoções consecutivas e não promoções consecutivas, vamos dividir em:\n",
        "# Quais colunas vamos usar ?\n",
        "#df4.head()\n",
        "aux= df4[df4['state_holiday'] == 'regular_day']\n",
        "#retirar as lojas que não entraram na promo 1\n",
        "aux_p= df4[df4['promo'] != 0]\n",
        "# Vamos retirar também os dados de 2015 pois não estão completos,embora é seja perca de dados, vai nos dar velocidade!\n",
        "aux_p = df4[df4['year'] != 2015]\n",
        "# agora temos somente lojas que entraram na promo 1 e talvez entraram na promo2\n",
        "# As colunas analisada são :\n",
        "# sales, promo2 promo2_since_week\n",
        "#\n",
        "aux_p1 = aux_p[['sales', 'promo2', 'promo_time_week']].groupby('promo_time_week').sum().reset_index()\n",
        "aux_p.head()"
      ]
    },
    {
      "cell_type": "code",
      "execution_count": null,
      "metadata": {
        "id": "G7_o2QIkwsxr"
      },
      "outputs": [],
      "source": [
        "aux2 = aux_p[['sales', 'promo2' ]].groupby('promo2').sum().reset_index()\n",
        "aux2.head()\n",
        "sns.barplot( x='promo2', y='sales', data=aux2, legend = 'full' );\n",
        "#de forma geral venderam mais quem não extendeu para promo 2, vamos agora observar a tentendência!"
      ]
    },
    {
      "cell_type": "code",
      "execution_count": null,
      "metadata": {
        "id": "yfDhCDzKwsxr"
      },
      "outputs": [],
      "source": [
        "aux3 = aux_p[['sales', 'promo2', 'promo_time_week']].groupby(['promo2','promo_time_week']).sum().reset_index()\n",
        "# vamos analisar o range da promo_time_week\n",
        "#aux3['promo_time_week'].unique() #primeiro momento existem valores negativos, vamos filtra-los\n",
        "aux3 =  aux3[aux3['promo_time_week']>0]\n",
        "aux3 = aux3[aux3['sales'] < 18000000] #Removendo outlier\n",
        "#aux3['promo_time_week'].unique() # ele vai de 1 a 283\n",
        "#vamos dividir em duas partes, gerando três gráficos\n",
        "aux31 = aux3[aux3['promo_time_week'] < 94 ]\n",
        "aux32 = aux3[(aux3['promo_time_week']  >= 94) & (aux3['promo_time_week']  < 188) ]\n",
        "aux33 = aux3[aux3['promo_time_week']  >= 188 ]\n",
        "#aux3\n"
      ]
    },
    {
      "cell_type": "code",
      "execution_count": null,
      "metadata": {
        "id": "MAJFU8Rxwsxs"
      },
      "outputs": [],
      "source": [
        "# como os outilier estão atrapalhando a escala do gráfico vou remover esses que são muito fora da curva.\n",
        "aux3['sales'].agg(['max', 'min', 'mean', 'median', 'std'] )\n"
      ]
    },
    {
      "cell_type": "code",
      "execution_count": null,
      "metadata": {
        "id": "ZcCBWwczwsxt"
      },
      "outputs": [],
      "source": [
        "#subplot(linha, coluna, posição)\n",
        "#aux3.pivot(index = 'promo_time_week', columns = 'promo2', values = 'sales').plot()\n",
        "\n",
        "#plt.subplot(3, 1 , 1)\n",
        "aux31.pivot(index = 'promo_time_week', columns = 'promo2', values = 'sales').plot()\n",
        "\n",
        "#sns.regplot(x = 'promo_time_week', y = 'sales', data = aux31) # Nota se um outilier que atrapalha a visualização, está em prim_time_week  0\n",
        "\n",
        "\n",
        "\n",
        "\n",
        "\n"
      ]
    },
    {
      "cell_type": "code",
      "execution_count": null,
      "metadata": {
        "id": "1Pyn3CjVwsxt"
      },
      "outputs": [],
      "source": [
        "#plt.subplot(3, 1, 2)\n",
        "aux32.pivot(index = 'promo_time_week', columns = 'promo2', values = 'sales').plot()"
      ]
    },
    {
      "cell_type": "code",
      "execution_count": null,
      "metadata": {
        "id": "Lrquk41Swsxt"
      },
      "outputs": [],
      "source": [
        "#plt.subplot(3, 1, 3)\n",
        "aux33.pivot(index = 'promo_time_week', columns = 'promo2', values = 'sales').plot()"
      ]
    },
    {
      "cell_type": "code",
      "execution_count": null,
      "metadata": {
        "id": "RAb2Pc3Ywsxu"
      },
      "outputs": [],
      "source": [
        "#Professor fez\n",
        "\n",
        "df4[['promo', 'promo2', 'sales']].groupby( ['promo', 'promo2'] ).sum().reset_index()\n"
      ]
    },
    {
      "cell_type": "code",
      "execution_count": null,
      "metadata": {
        "id": "OUeKnCXrwsxu"
      },
      "outputs": [],
      "source": [
        "#Professor fez\n",
        "# Selecionou agrupando três colunas: ['promo', 'promo2', 'sales']\n",
        "df4[['promo', 'promo2', 'sales']].groupby( ['promo', 'promo2'] ).sum().reset_index()\n"
      ]
    },
    {
      "cell_type": "code",
      "execution_count": null,
      "metadata": {
        "id": "Haz4Gw4bwsxu"
      },
      "outputs": [],
      "source": [
        "#realizou um filtro para promo e promo2 ativato e selecionandos as colunas ['year_week', 'sales'] e indexando year_week.\n",
        "aux1 = df4[( df4['promo'] == 1 ) & ( df4['promo2'] == 1 )][['year_week', 'sales']].groupby( 'year_week' ).sum().reset_index()\n",
        "ax = aux1.plot()\n",
        "\n",
        "#realizou um filtro para promo ativato e promo2 n ativato e selecionandos as colunas ['year_week', 'sales'] e indexando year_week.\n",
        "aux2 = df4[( df4['promo'] == 1 ) & ( df4['promo2'] == 0 )][['year_week','sales']].groupby( 'year_week' ).sum().reset_index()\n",
        "\n",
        "aux2.plot( ax=ax )\n",
        "ax.legend( labels=['Tradicional & Extendida', 'Extendida']);"
      ]
    },
    {
      "cell_type": "markdown",
      "metadata": {
        "id": "oZVBejSTwsxv"
      },
      "source": [
        "## 5.2.7 H8. Lojas abertas durante o feriado de Natal deveriam vender mais.\n",
        "FALSA Lojas abertas durante o feriado do Natal vendem menos."
      ]
    },
    {
      "cell_type": "code",
      "execution_count": null,
      "metadata": {
        "id": "GRswbheGwsxv"
      },
      "outputs": [],
      "source": [
        "df4.head(3)"
      ]
    },
    {
      "cell_type": "markdown",
      "metadata": {
        "id": "-nVs63F5wsxv"
      },
      "source": [
        "Quais colunas estamos trabalhando ?\n",
        " * sales\n",
        " * state_holiday -> options: 'regular_day', 'public_holiday', 'easter_holiday', 'christmas'\n",
        " *\n",
        "Quais feriados vendem mais ?\n",
        "Um Feriado de natal vende mais que um dia normal ?"
      ]
    },
    {
      "cell_type": "code",
      "execution_count": null,
      "metadata": {
        "id": "u_AR327Zwsxv"
      },
      "outputs": [],
      "source": [
        "aux_c = df4[df4['state_holiday'] == 'christmas']#agg({'sales' : ['max']})\n",
        "aux_c = aux_c.loc[:,['state_holiday','sales', 'date']].groupby(['state_holiday','date']).max().reset_index().sort_values(['sales'], ascending=False)\n",
        "aux_c"
      ]
    },
    {
      "cell_type": "code",
      "execution_count": null,
      "metadata": {
        "id": "pT14CEs_wsxw"
      },
      "outputs": [],
      "source": [
        "\n",
        "aux_r = df4[df4['state_holiday'] == 'regular_day']\n",
        "aux_r = aux_r.loc[:,['state_holiday','sales', 'date']].groupby(['state_holiday','date']).max().reset_index().sort_values(['sales'], ascending=False)\n",
        "aux_r.head(4)"
      ]
    },
    {
      "cell_type": "code",
      "execution_count": null,
      "metadata": {
        "id": "vMQ7WTbxwsxw"
      },
      "outputs": [],
      "source": [
        "aux_p = df4[df4['state_holiday'] == 'public_holiday']\n",
        "aux_p = aux_p.loc[:,['state_holiday','sales', 'date']].groupby(['state_holiday','date']).max().reset_index().sort_values(['sales'], ascending=False)\n",
        "aux_p.head(4)"
      ]
    },
    {
      "cell_type": "code",
      "execution_count": null,
      "metadata": {
        "id": "7H3729w2wsxw"
      },
      "outputs": [],
      "source": [
        "aux_e = df4[df4['state_holiday'] == 'easter_holiday']\n",
        "aux_e = aux_e.loc[:,['state_holiday','sales', 'date']].groupby(['state_holiday','date']).max().reset_index().sort_values(['sales'], ascending=False)\n",
        "aux_e = aux_e.iloc[0:4, :].reset_index()"
      ]
    },
    {
      "cell_type": "code",
      "execution_count": null,
      "metadata": {
        "id": "2ENxf-Hiwsxx"
      },
      "outputs": [],
      "source": [
        "aux_e"
      ]
    },
    {
      "cell_type": "code",
      "execution_count": null,
      "metadata": {
        "id": "tZOC6zXnwsxx"
      },
      "outputs": [],
      "source": [
        "\n",
        "#aux_e[0,'index'] = 1\n",
        "#aux_e[1,'index'] = 2\n",
        "#aux_e[2,'index'] = 3\n",
        "#aux_e[3,'index'] = 4\n",
        "\n",
        "#aux_e = aux_e.rename(columns={'index': 'podio')\n",
        "\n",
        "#df3 = df3.drop( ['date'], axis=1 )\n"
      ]
    },
    {
      "cell_type": "code",
      "execution_count": null,
      "metadata": {
        "id": "Xbp9xGLuwsxx"
      },
      "outputs": [],
      "source": [
        "#forma que Professor fez!\n",
        "#faz um filtro e plota\n",
        "aux = df4[df4['state_holiday'] != 'regular_day']\n",
        "# agrupa e soma as vendas em dias n comum\n",
        "plt.subplot( 1, 2, 1 )\n",
        "aux1 = aux[['state_holiday', 'sales']].groupby( 'state_holiday' ).sum().reset_index()\n",
        "sns.barplot( x='state_holiday', y='sales', data=aux1 );\n",
        "\n",
        "plt.subplot( 1, 2, 2 )\n",
        "aux2 = aux[['year', 'state_holiday', 'sales']].groupby( ['year','state_holiday'] ).sum().reset_index()\n",
        "sns.barplot( x='year', y='sales', hue='state_holiday', data=aux2 );"
      ]
    },
    {
      "cell_type": "markdown",
      "metadata": {
        "id": "87kfAPNkwsxy"
      },
      "source": [
        "## 5.2.8 H9. Lojas deveriam vender mais ao longo dos anos.\n",
        "Próximo de falsa - pois no ano de 2015  falta dados da metade do ano, que vinha de forma promissora para ser o melhor ano de vendas. Além disso, o que ocorreu em 2014, uma grande queda pós o mês 6, pode ser um acontecimento promovido por algo específico da aquele ele, que existe baixa possibilidade de repetir, já o ano de 2014 estava com números de vendas um pouco melhor que 2013 nos primeiros 6 mêses, exceto fevereiro de 2013."
      ]
    },
    {
      "cell_type": "code",
      "execution_count": null,
      "metadata": {
        "id": "ueaorK2Uwsxy"
      },
      "outputs": [],
      "source": [
        "df4.head()"
      ]
    },
    {
      "cell_type": "markdown",
      "metadata": {
        "id": "fgRxExZnwsxy"
      },
      "source": [
        "Vamos pegar as colunas\n",
        " * sales\n",
        " * year\n",
        " * month\n",
        "    Então vamos ferar dois ✌ tipos de gráficos, um gráfico acumulativo de vendas anual, outro um pivot por mesês, sendo três anos serão três linhas"
      ]
    },
    {
      "cell_type": "code",
      "execution_count": null,
      "metadata": {
        "id": "PNhXFCftwsxy"
      },
      "outputs": [],
      "source": [
        "# Acumulativo\n",
        "aux = df4[['sales','year']].groupby('year').sum().reset_index()\n",
        "\n",
        "plt.subplot(2,1, 1 )\n",
        "sns.barplot(x = 'year' ,y = 'sales', data = aux)\n",
        "# Tendência anual\n",
        "plt.subplot(2, 1, 2)\n",
        "aux1 = df4[['sales','year', 'month']].groupby(['year', 'month']).sum().reset_index()\n",
        "#aux1\n",
        "aux1.pivot(index = 'month' , columns = 'year', values = 'sales').plot()\n"
      ]
    },
    {
      "cell_type": "code",
      "execution_count": null,
      "metadata": {
        "id": "_s9Pw8Vbwsxz"
      },
      "outputs": [],
      "source": [
        "## Como o professor fez !\n",
        "# como eu selecionou sales e year, mas não month\n",
        "aux1 = df4[['year', 'sales']].groupby( 'year' ).sum().reset_index()\n",
        "plt.subplot( 1, 3, 1 )\n",
        "# Criou gráfico de vendas acumulativo por ano\n",
        "sns.barplot( x='year', y='sales', data=aux1 );\n",
        "plt.subplot( 1, 3, 2 )\n",
        "\n",
        "# criou um regressão para analisar comportamento por anos\n",
        "sns.regplot( x='year', y='sales', data=aux1 );\n",
        "plt.subplot( 1, 3, 3 )\n",
        "# Fez uma correlação das variáveis sales e year, o que para mim, não valia a pena para prever ou confiar acontecimentos futuros.\n",
        "sns.heatmap( aux1.corr( method='pearson' ), annot=True );"
      ]
    },
    {
      "cell_type": "markdown",
      "metadata": {
        "id": "9QsHfBqcwsxz"
      },
      "source": [
        "## 5.2.9 H10. Lojas deveriam vender mais no segundo semestre do ano.\n",
        "FALSA Lojas vendem menos no segundo semestre do ano"
      ]
    },
    {
      "cell_type": "code",
      "execution_count": null,
      "metadata": {
        "id": "XXtJ80h9wsxz"
      },
      "outputs": [],
      "source": [
        "#o gráfico da pergunta anterior para analisar o comportamento das vendas em relação aos anos, deixa claro que as vendas diminuir\n",
        "#após o mês 6, significativamente, tendo uma retomada no mês de Novembro a Dezembro.\n",
        "# Acumulativo\n",
        "aux = df4[['sales','year']].groupby('year').sum().reset_index()\n",
        "\n",
        "aux1 = df4[['sales','year', 'month']].groupby(['year', 'month']).sum().reset_index()\n",
        "#aux1\n",
        "aux1.pivot(index = 'month' , columns = 'year', values = 'sales').plot()"
      ]
    },
    {
      "cell_type": "code",
      "execution_count": null,
      "metadata": {
        "id": "w2lumnXZwsx0"
      },
      "outputs": [],
      "source": [
        "# como o professor fez!\n",
        "# Agrupou por vendas por mês\n",
        "aux1 = df4[['month', 'sales']].groupby( 'month' ).sum().reset_index()\n",
        "plt.subplot( 1, 3, 1 )\n",
        "sns.barplot( x='month', y='sales', data=aux1 );\n",
        "plt.subplot( 1, 3, 2 )\n",
        "sns.regplot( x='month', y='sales', data=aux1 );\n",
        "plt.subplot( 1, 3, 3 )\n",
        "# fez uma correlação com método de peason entre vendas e meses!\n",
        "sns.heatmap( aux1.corr( method='pearson' ), annot=True );"
      ]
    },
    {
      "cell_type": "markdown",
      "metadata": {
        "id": "IlJawR_gwsx0"
      },
      "source": [
        "## 5.2.10 H11. Lojas deveriam vender mais depois do dia 10 de cada mês.\n",
        "VERDADEIRA Lojas vendem mais depois do dia 10 de cada mes.\n"
      ]
    },
    {
      "cell_type": "code",
      "execution_count": null,
      "metadata": {
        "id": "OooCYoc7wsx0"
      },
      "outputs": [],
      "source": []
    },
    {
      "cell_type": "markdown",
      "metadata": {
        "id": "yVnU4186wsx0"
      },
      "source": [
        "As colunas analisada são:\n",
        " * sales\n",
        " * year\n",
        " * month\n",
        " * day"
      ]
    },
    {
      "cell_type": "code",
      "execution_count": null,
      "metadata": {
        "id": "USc6xUY0wsx1"
      },
      "outputs": [],
      "source": [
        "df4['day'].unique()"
      ]
    },
    {
      "cell_type": "code",
      "execution_count": null,
      "metadata": {
        "id": "sbw0r8KEwsx1"
      },
      "outputs": [],
      "source": [
        "#aux = df4[df4['day'] > 10]\n",
        "#aux1 =  aux[['day','sales']].groupby(['day']).sum()\n",
        "\n",
        "#aux2 = df4[df4['day'] < 10]\n",
        "#aux3 =  aux2[['day','sales']].groupby(['year','month','day']).sum()\n",
        "\n",
        "#vamos descartar o ano 2015 pois não está completo\n",
        "aux = df4[df4['year'] != 2015]\n",
        "aux1 =  aux[['day','sales']].groupby(['day']).sum().reset_index()\n",
        "sns.barplot(x = 'day', y = 'sales', data = aux1)\n",
        "\n"
      ]
    },
    {
      "cell_type": "code",
      "execution_count": null,
      "metadata": {
        "id": "z1zBFcJLwsx2"
      },
      "outputs": [],
      "source": [
        " aux1['day'].unique()"
      ]
    },
    {
      "cell_type": "code",
      "execution_count": null,
      "metadata": {
        "id": "d9_NSduzwsx2"
      },
      "outputs": [],
      "source": [
        "#import numpy as np\n",
        "\n",
        "## Suponha que seu DataFrame seja chamado 'df'\n",
        "aux1['day'] = np.where(aux1['day'] <= 10, 'before', 'after') # Se rodar duas vezes essa linha dar erro\n",
        "aux2 = aux1[['sales', 'day']].groupby('day').sum()#.reset_index()\n",
        "sns.barplot(x = 'day', y = 'sales', data = aux2 )\n"
      ]
    },
    {
      "cell_type": "code",
      "execution_count": null,
      "metadata": {
        "id": "XGxcgDCBwsx3"
      },
      "outputs": [],
      "source": [
        "#Como o professor fez!\n",
        "# Selecinou as duas variáveis envolvidas\n",
        "aux1 = df4[['day', 'sales']].groupby( 'day' ).sum().reset_index()\n",
        "plt.subplot( 2, 2, 1 )\n",
        "sns.barplot( x='day', y='sales', data=aux1 );\n",
        "\n",
        "plt.subplot( 2, 2, 2 )\n",
        "#plotou elas em regressão\n",
        "sns.regplot( x='day', y='sales', data=aux1 );\n",
        "\n",
        "#fez uma correlação\n",
        "plt.subplot( 2, 2, 3 )\n",
        "sns.heatmap( aux1.corr( method='pearson' ), annot=True );\n",
        "aux1['before_after'] = aux1['day'].apply( lambda x: 'before_10_days' if x <= 10 else 'after_10_days' )\n",
        "aux2 =aux1[['before_after', 'sales']].groupby( 'before_after' ).sum().reset_index()\n",
        "plt.subplot( 2, 2, 4 )\n",
        "sns.barplot( x='before_after', y='sales', data=aux2 );"
      ]
    },
    {
      "cell_type": "markdown",
      "metadata": {
        "id": "2OrhrLxFwsx3"
      },
      "source": [
        "## 5.2.11 H12. Lojas deveriam vender menos aos finais de semana.\n",
        "VERDADEIRA Lojas vendem menos nos final de semana"
      ]
    },
    {
      "cell_type": "code",
      "execution_count": null,
      "metadata": {
        "id": "QJrOfE20wsx5"
      },
      "outputs": [],
      "source": [
        "df4.head(4)"
      ]
    },
    {
      "cell_type": "markdown",
      "metadata": {
        "id": "1zHjYWfawsx6"
      },
      "source": [
        " Quais colunas ou entidades que estão envolvidas :\n",
        " * sales\n",
        " * day_of_week\n",
        " *\n"
      ]
    },
    {
      "cell_type": "code",
      "execution_count": null,
      "metadata": {
        "id": "4G8x3Fvdwsx7"
      },
      "outputs": [],
      "source": [
        "aux"
      ]
    },
    {
      "cell_type": "code",
      "execution_count": null,
      "metadata": {
        "id": "G2EkdLUqwsx8"
      },
      "outputs": [],
      "source": [
        "\n",
        "aux = df4[['sales','day_of_week']].groupby('day_of_week').sum().reset_index()\n",
        "\n",
        "#aux.astype(int)\n",
        "plt.subplot(2, 1 , 1)\n",
        "sns.barplot(x =  'day_of_week', y =  'sales', data = aux)\n",
        "\n",
        "plt.subplot(2, 1 , 2)\n",
        "sns.heatmap(aux.corr( method = 'pearson'), annot = True )\n"
      ]
    },
    {
      "cell_type": "code",
      "execution_count": null,
      "metadata": {
        "id": "EZfBw7_4wsx9"
      },
      "outputs": [],
      "source": [
        "# como o professor fez\n",
        "#Selecionou duas culnas dias da semana e vendas\n",
        "aux1 = df4[['day_of_week', 'sales']].groupby( 'day_of_week' ).sum().reset_index()\n",
        "\n",
        "plt.subplot( 1, 3, 1 )\n",
        "sns.barplot( x='day_of_week', y='sales', data=aux1 );\n",
        "\n",
        "plt.subplot( 1, 3, 2 )\n",
        "sns.regplot( x='day_of_week', y='sales', data=aux1 );\n",
        "plt.subplot( 1, 3, 3 )\n",
        "sns.heatmap( aux1.corr( method='pearson' ), annot=True );\n",
        "\n"
      ]
    },
    {
      "cell_type": "markdown",
      "metadata": {
        "id": "YfgWKAzowsx-"
      },
      "source": [
        "## 5.2.12 H13. Lojas deveriam vender menos durante os feriados escolares.\n",
        "**VERDADEIRA** Lojas vendem menos durante os feriados escolares, except os meses de Julho e\n",
        "Agosto."
      ]
    },
    {
      "cell_type": "markdown",
      "metadata": {
        "id": "Mu7ztfA4wsx_"
      },
      "source": [
        "As colunas que trazem a resposta a hipóteses são:\n",
        " * sales\n",
        " * year\n",
        " * month"
      ]
    },
    {
      "cell_type": "code",
      "execution_count": null,
      "metadata": {
        "id": "zVOdeH3rwsx_"
      },
      "outputs": [],
      "source": [
        "#promo_interval\n",
        "month_map = {1 : 'Jan', 2 : 'Feb', 3 : 'Mar', 4 : 'Apr', 5 : 'May',\n",
        " 6 : 'Jun', 7 : 'Jul', 8 : 'Aug', 9: 'Sep', 10: 'Oct', 11 :'Nov', 12 : 'Dec'}\n",
        "\n",
        "\n",
        "\n"
      ]
    },
    {
      "cell_type": "code",
      "execution_count": null,
      "metadata": {
        "id": "_r6iEJnUwsx_"
      },
      "outputs": [],
      "source": [
        "df4['school_holiday'].unique()"
      ]
    },
    {
      "cell_type": "code",
      "execution_count": null,
      "metadata": {
        "id": "IaueM3smwsx_"
      },
      "outputs": [],
      "source": [
        "#aux = df4[df4 ['school_holiday'] == 1 ]\n",
        "\n",
        "aux = df4[['school_holiday','month','sales']].groupby(['school_holiday','month']).sum().reset_index()\n",
        "\n",
        "\n",
        "\n",
        "aux.pivot(index= 'month' ,  columns = 'school_holiday', values ='sales' ).plot()"
      ]
    },
    {
      "cell_type": "code",
      "execution_count": null,
      "metadata": {
        "id": "0JYh6ICGwsyA"
      },
      "outputs": [],
      "source": [
        "#Como professor fez!\n",
        "# Ele selecionou duas\n",
        "aux1 = df4[['school_holiday', 'sales']].groupby( 'school_holiday' ).sum().reset_index()\n",
        "plt.subplot( 2, 1, 1 )\n",
        "sns.barplot( x='school_holiday', y='sales', data=aux1 );\n",
        "aux2 = df4[['month', 'school_holiday', 'sales']].groupby(['month','school_holiday'] ).sum().reset_index()\n",
        "plt.subplot( 2, 1, 2 )\n",
        "sns.barplot( x='month', y='sales', hue='school_holiday', data=aux2 );\n",
        "\n"
      ]
    },
    {
      "cell_type": "markdown",
      "metadata": {
        "id": "GrYeicWpwsyA"
      },
      "source": [
        "## 5.2.13  Resumo das Hipoteses\n"
      ]
    },
    {
      "cell_type": "code",
      "execution_count": null,
      "metadata": {
        "id": "ZFeEZc0jwsyA"
      },
      "outputs": [],
      "source": [
        "tab =[['Hipoteses', 'Conclusao', 'Relevancia'],\n",
        "['H1', 'Falsa', 'Baixa'],\n",
        "['H2', 'Falsa', 'Media'],\n",
        "['H3', 'Falsa', 'Media'],\n",
        "['H4', 'Falsa', 'Baixa'],\n",
        "['H5', '-', '-'],\n",
        "['H7', 'Falsa', 'Baixa'],\n",
        "['H8', 'Falsa', 'Media'],\n",
        "['H9', 'Falsa', 'Alta'],\n",
        "['H10', 'Falsa', 'Alta'],\n",
        "['H11', 'Verdadeira', 'Alta'],\n",
        "['H12', 'Verdadeira', 'Alta'],\n",
        "['H13', 'Verdadeira', 'Baixa'],\n",
        "]\n",
        "print( tabulate( tab, headers='firstrow' ) )"
      ]
    },
    {
      "cell_type": "markdown",
      "metadata": {
        "id": "sgIkI3BFwsyB"
      },
      "source": [
        "# 5.3  Analise Multivariada"
      ]
    },
    {
      "cell_type": "markdown",
      "metadata": {
        "id": "BEGit-nXwsyB"
      },
      "source": [
        "## 5.3.1 Numerical Attributes\n"
      ]
    },
    {
      "cell_type": "code",
      "execution_count": null,
      "metadata": {
        "id": "M2P4vX_7wsyB"
      },
      "outputs": [],
      "source": [
        "correlation = num_atributes.corr( method='pearson' )\n",
        "sns.heatmap( correlation, annot=True );"
      ]
    },
    {
      "cell_type": "code",
      "execution_count": null,
      "metadata": {
        "id": "y2FsdX6GwsyB"
      },
      "outputs": [],
      "source": [
        "a.head(4)"
      ]
    },
    {
      "cell_type": "code",
      "execution_count": null,
      "metadata": {
        "id": "Zrh6iBHGwsyC"
      },
      "outputs": [],
      "source": [
        "# only categorical data\n",
        "a = df4.select_dtypes( include='object' )\n",
        "# Calculate cramer V\n",
        "#a1 = cramer_v( a['state_holiday'], a['state_holiday'] )\n",
        "#a2 = cramer_v( a['state_holiday'], a['store_type'] )\n",
        "#a3 = cramer_v( a['state_holiday'], a['assortment'] )\n",
        "\n",
        "#a4 = cramer_v( a['store_type'], a['state_holiday'] )\n",
        "#a5 = cramer_v( a['store_type'], a['store_type'] )\n",
        "#a6 = cramer_v( a['store_type'], a['assortment'] )\n",
        "#a7 = cramer_v( a['assortment'], a['state_holiday'] )\n",
        "#a8 = cramer_v( a['assortment'], a['store_type'] )\n",
        "#a9 = cramer_v( a['assortment'], a['assortment'] )\n",
        "# Final dataset\n",
        "#d = pd.DataFrame( {'state_holiday': [a1, a2, a3],\n",
        "                  #  'store_type'  : [a4, a5, a6],\n",
        "                  #  'assortment'  : [a7, a8, a9] })\n",
        "#d = d.set_index( d.columns )\n",
        "#sns.heatmap( d, annot=True )\n"
      ]
    },
    {
      "cell_type": "markdown",
      "metadata": {
        "id": "6X2NZ469wsyC"
      },
      "source": [
        "# 6. PASSO 6 -  DATA PREPARATION"
      ]
    },
    {
      "cell_type": "code",
      "execution_count": null,
      "metadata": {
        "id": "5EwNEfXSwsyC"
      },
      "outputs": [],
      "source": [
        "df5 = df4.copy()"
      ]
    },
    {
      "cell_type": "markdown",
      "metadata": {
        "id": "WdSaBZeRwsyD"
      },
      "source": [
        "## 6.1 -  Normalização"
      ]
    },
    {
      "cell_type": "code",
      "execution_count": null,
      "metadata": {
        "id": "GLNUyQnWwsyD"
      },
      "outputs": [],
      "source": [
        "# Como pode observar não existem gráficos com formato de normal ou Gaussina, portando não iremos aplicar o processo de normalização que tem a fórmula\n",
        "# = (Xobservado - a média) / Desvio Padrão\n",
        "num_atributes.hist( bins = 25)"
      ]
    },
    {
      "cell_type": "markdown",
      "metadata": {
        "id": "x_ItXzAFwsyD"
      },
      "source": [
        "## 6.2 Rescaling"
      ]
    },
    {
      "cell_type": "code",
      "execution_count": null,
      "metadata": {
        "id": "29uC-aIswsyE"
      },
      "outputs": [],
      "source": [
        "#Foram rescalados algumas colunas, que tinha um grande range elas são:\n",
        "# df5.loc[:,['competition_distance', 'competition_time_month', 'promo_time_week', 'year']\n",
        "# iremos verifica se existem muitos outliers, amos verificar cada coluna a quantidade de outliers, se tiver muito, trabalhamos o range por meio do\n",
        "#RobustScaler, pois ele trabalha com na sua fórmula,  = o ponto local - primeiro quartil )/ terceiro quartil - primeiro quartil primeiro, se não pode\n",
        "# usa o  MinMaxScaler(), sendo sua fórmula = (Xi(ponto observado) - Média )/ 3Quartil - 1 Quartil\n"
      ]
    },
    {
      "cell_type": "code",
      "execution_count": null,
      "metadata": {
        "id": "SvsIRg6DwsyF"
      },
      "outputs": [],
      "source": [
        "#sns.barplot(df5['competition_distance']) uma forma de analisa a quantidade de utilier é quartil, mas meu pc não está coseguindo roda, então vamos\n",
        "# volta a utilizar google colab"
      ]
    },
    {
      "cell_type": "code",
      "execution_count": null,
      "metadata": {
        "id": "oQu6i1hjwsyF"
      },
      "outputs": [],
      "source": [
        "#sns.barplot(df5['competition_time_month'])"
      ]
    },
    {
      "cell_type": "code",
      "execution_count": null,
      "metadata": {
        "id": "vU6su-5lwsyF"
      },
      "outputs": [],
      "source": [
        "#sns.barplot(df5['promo_time_week'])"
      ]
    },
    {
      "cell_type": "code",
      "execution_count": null,
      "metadata": {
        "id": "utxHnJ7swsyG"
      },
      "outputs": [],
      "source": [
        "#df5.loc[:,['competition_distance', 'competition_time_month', 'promo_time_week', 'year']].head()"
      ]
    },
    {
      "cell_type": "code",
      "execution_count": null,
      "metadata": {
        "id": "hC8uOReVwsyG"
      },
      "outputs": [],
      "source": [
        "rs = RobustScaler()\n",
        "mms = MinMaxScaler()\n",
        "\n",
        "# competition distance\n",
        "df5['competition_distance'] = rs.fit_transform( df5[['competition_distance']].values )\n",
        "# competition time month\n",
        "df5['competition_time_month'] = rs.fit_transform(df5[['competition_time_month']].values )\n",
        "# promo time week\n",
        "df5['promo_time_week'] = mms.fit_transform( df5[['promo_time_week']].values )\n",
        "# year\n",
        "df5['year'] = mms.fit_transform( df5[['year']].values )"
      ]
    },
    {
      "cell_type": "code",
      "execution_count": null,
      "metadata": {
        "id": "aAWNM69HwsyG"
      },
      "outputs": [],
      "source": [
        "df5.loc[:,['competition_distance', 'competition_time_month', 'promo_time_week', 'year']].head()"
      ]
    },
    {
      "cell_type": "markdown",
      "metadata": {
        "id": "s8-R_YaAwsyH"
      },
      "source": [
        "## 6.3 Transformação"
      ]
    },
    {
      "cell_type": "markdown",
      "metadata": {
        "id": "heaNMDjawsyH"
      },
      "source": [
        "### 6.3.1 Encoding"
      ]
    },
    {
      "cell_type": "code",
      "execution_count": null,
      "metadata": {
        "id": "UU2y5OyWwsyH"
      },
      "outputs": [],
      "source": [
        "# state_holiday - One Hot Encoding\n",
        "df5 = pd.get_dummies( df5, prefix=['state_holiday'], columns=['state_holiday'] )"
      ]
    },
    {
      "cell_type": "code",
      "execution_count": null,
      "metadata": {
        "id": "5b5uGRGqwsyI"
      },
      "outputs": [],
      "source": [
        "le = LabelEncoder()\n",
        "df5['store_type'] = le.fit_transform( df5['store_type'] )\n",
        "df5['store_type'].head()"
      ]
    },
    {
      "cell_type": "code",
      "execution_count": null,
      "metadata": {
        "id": "YhdwVaOqwsyJ"
      },
      "outputs": [],
      "source": [
        "# assortment - Ordinal Encoding\n",
        "assortment_dict = {'basic': 1, 'extra': 2, 'extended': 3}\n",
        "df5['assortment'] = df5['assortment'].map( assortment_dict )"
      ]
    },
    {
      "cell_type": "markdown",
      "metadata": {
        "id": "gtvTv4hVwsyK"
      },
      "source": [
        "### Response Variable Transformation"
      ]
    },
    {
      "cell_type": "code",
      "execution_count": null,
      "metadata": {
        "id": "0WcwBNJxwsyL"
      },
      "outputs": [],
      "source": [
        "df5['sales'] = np.log1p( df5['sales'] )"
      ]
    },
    {
      "cell_type": "markdown",
      "metadata": {
        "id": "PydqjJXawsyL"
      },
      "source": [
        "### 6.3.3.  Nature Transformation"
      ]
    },
    {
      "cell_type": "code",
      "execution_count": null,
      "metadata": {
        "id": "7lJcmlBxwsyM"
      },
      "outputs": [],
      "source": [
        "# day of week\n",
        "df5['day_of_week_sin'] = df5['day_of_week'].apply( lambda x: np.sin( x * ( 2. *np.pi/7 ) ) )\n",
        "\n",
        "df5['day_of_week_cos'] = df5['day_of_week'].apply( lambda x: np.cos( x * ( 2. *np.pi/7 ) ) )\n",
        "# month\n",
        "df5['month_sin'] = df5['month'].apply( lambda x: np.sin( x * ( 2. * np.pi/12 )) )\n",
        "df5['month_cos'] = df5['month'].apply( lambda x: np.cos( x * ( 2. * np.pi/12 )) )\n",
        "# day\n",
        "df5['day_sin'] = df5['day'].apply( lambda x: np.sin( x * ( 2. * np.pi/30 ) ) )\n",
        "df5['day_cos'] = df5['day'].apply( lambda x: np.cos( x * ( 2. * np.pi/30 ) ) )\n",
        "# week of year\n",
        "df5['week_of_year_sin'] = df5['week_of_year'].apply( lambda x: np.sin( x * ( 2.* np.pi/52 ) ) )\n",
        "df5['week_of_year_cos'] = df5['week_of_year'].apply( lambda x: np.cos( x * ( 2.* np.pi/52 ) ) )\n"
      ]
    },
    {
      "cell_type": "code",
      "execution_count": null,
      "metadata": {
        "id": "IRNifyUowsyN"
      },
      "outputs": [],
      "source": [
        "df5.head()\n"
      ]
    },
    {
      "cell_type": "markdown",
      "source": [
        "# 7. PASSO 07 - FEATURE SELECTION"
      ],
      "metadata": {
        "id": "OWBQoCg5Qhel"
      }
    },
    {
      "cell_type": "code",
      "source": [
        "df6 = df5.copy()"
      ],
      "metadata": {
        "id": "reRd3RujQyHk"
      },
      "execution_count": null,
      "outputs": []
    },
    {
      "cell_type": "markdown",
      "source": [
        "## 7.1 Split dataframe into training and test dataset"
      ],
      "metadata": {
        "id": "1qCElOuTSBcU"
      }
    },
    {
      "cell_type": "code",
      "source": [
        "cols_drop =['week_of_year', 'day', 'month', 'day_of_week', 'promo_since', 'competition_since', 'year_week']\n",
        "df6 = df6.drop( cols_drop, axis = 1)"
      ],
      "metadata": {
        "id": "EW7kxTr1Qvvt"
      },
      "execution_count": null,
      "outputs": []
    },
    {
      "cell_type": "code",
      "source": [
        "# Training dataset\n",
        "X_train = df6[df6['date'] < '2015-06-19']\n",
        "y_train =  X_train['sales']\n",
        "\n",
        "# test dataset\n",
        "X_test = df6[df6['date'] >= '2015-06-19']\n",
        "y_test = X_test['sales']\n",
        "\n",
        "print('Training Min Date: {}'.format( X_train['date'].min()))\n",
        "print('Training Max Date: {}'.format(X_train['date'].max()))\n",
        "print('\\nTest Min Date: {}'.format())\n",
        "print( 'Test Max Date: {}'.format( X_test['date'].max() ) )"
      ],
      "metadata": {
        "id": "f09zcP1uUPUD"
      },
      "execution_count": null,
      "outputs": []
    },
    {
      "cell_type": "markdown",
      "source": [
        "## 7.2 Boruta as Feature Selector\n"
      ],
      "metadata": {
        "id": "llyLX3uaYT0-"
      }
    },
    {
      "cell_type": "code",
      "source": [
        "## training and test dataset for Boruta\n",
        "#X_train_n = X_train.drop( ['date', 'sales'], axis=1 ).values\n",
        "#y_train_n = y_train.values.ravel()\n",
        "#\n",
        "## define RandomForestRegressor\n",
        "#rf = RandomForestRegressor( n_jobs=-1 )\n",
        "#\n",
        "## define Boruta\n",
        "#boruta = BorutaPy( rf, n_estimators='auto', verbose=2, random_state=42 ).fit(֒!X_train_n, y_train_n )\n",
        "#o random_state é para manter um padrão de aleatoriedade cada vez que ele for fazer o processo.\n",
        "# n_jobs são os parâmetros de núcleo, Se você definir n_jobs como -1, todos os núcleos da CPU"
      ],
      "metadata": {
        "id": "9da7b4bLYm7e"
      },
      "execution_count": null,
      "outputs": []
    },
    {
      "cell_type": "markdown",
      "source": [
        "## 7.2.1"
      ],
      "metadata": {
        "id": "6VXZA1egYfwA"
      }
    },
    {
      "cell_type": "code",
      "source": [
        "#cols_selected = boruta.support_.tolist()\n",
        "#\n",
        "## best features\n",
        "#X_train_fs = X_train.drop( ['date', 'sales'], axis=1 )\n",
        "#cols_selected_boruta = X_train_fs.iloc[:, cols_selected].columns.to_list()\n",
        "#\n",
        "## not selected boruta\n",
        "#cols_not_selected_boruta = list( np.setdiff1d( X_train_fs.columns,֒!cols_selected_boruta ) )"
      ],
      "metadata": {
        "id": "xjT3GCF6Y5lz"
      },
      "execution_count": null,
      "outputs": []
    },
    {
      "cell_type": "markdown",
      "source": [
        "## 7.3 Manual Fature Selection"
      ],
      "metadata": {
        "id": "Zg55pqEQY9iq"
      }
    },
    {
      "cell_type": "code",
      "source": [
        "cols_selected_boruta = ['store',\n",
        "                        'promo',\n",
        "                        'store_type',\n",
        "                        'assortment',\n",
        "                        'competition_distance',\n",
        "                        'competition_open_since_month',\n",
        "                        'competition_open_since_year',\n",
        "                        'promo2',\n",
        "                        'promo2_since_week',\n",
        "                        'promo2_since_year',\n",
        "                        'competition_time_month',\n",
        "                        'promo_time_week',\n",
        "                        'day_of_week_sin',\n",
        "                        'day_of_week_cos',\n",
        "                        'month_sin',\n",
        "                        'month_cos',\n",
        "                        'day_sin',\n",
        "                        'day_cos',\n",
        "                        'week_of_year_sin',\n",
        "                        'week_of_year_cos']\n",
        "# columns to add\n",
        "feat_to_add = ['date', 'sales']\n",
        "cols_selected_boruta_full = cols_selected_boruta.copy()\n",
        "cols_selected_boruta_full.extend( feat_to_add )"
      ],
      "metadata": {
        "id": "Wov95K1DZIZZ"
      },
      "execution_count": null,
      "outputs": []
    },
    {
      "cell_type": "markdown",
      "source": [
        "# 8.0 PASSO 08 - MACHINE LEARNING MODELLING"
      ],
      "metadata": {
        "id": "eWaVgrASanxE"
      }
    },
    {
      "cell_type": "code",
      "source": [
        "x_train = X_train[ cols_selected_boruta]\n",
        "x_test  = X_test[ cols_selected_boruta ]\n",
        "\n",
        "#Time Series Data Preparation\n",
        "\n",
        "x_training =  X_train[ cols_selected_boruta_full]"
      ],
      "metadata": {
        "id": "wrfhA3uOavNq"
      },
      "execution_count": null,
      "outputs": []
    },
    {
      "cell_type": "markdown",
      "source": [
        "## 8.1 Average Model"
      ],
      "metadata": {
        "id": "Ff8-XOiLbaev"
      }
    },
    {
      "cell_type": "code",
      "source": [
        "aux1 = x_test.copy()\n",
        "\n",
        "aux1['sales'] = y_test.copy()\n",
        "\n",
        "#prediction\n",
        "aux2 = aux1[['store', 'sales']].groupby('store').mean().reset_index().rename(columns = {'sales':'predictions'})\n",
        "\n",
        "aux1 = pd.merge(aux1, aux2, how = 'left', on = 'store')\n",
        "yhat_baseline = aux1['predictions']\n",
        "\n",
        "# performance\n",
        "baseline_result = ml_error('Average Model', np.expm1(y_test ), np.exmpm1( yhat_baseline))\n",
        "baseline_result"
      ],
      "metadata": {
        "id": "2efHYzkUbZRv"
      },
      "execution_count": null,
      "outputs": []
    },
    {
      "cell_type": "markdown",
      "source": [
        "## Linear Regression Model"
      ],
      "metadata": {
        "id": "apJLD4u3cyWm"
      }
    },
    {
      "cell_type": "code",
      "source": [
        "# model\n",
        "lr = LinearRegression().fit( x_train, y_train)\n",
        "\n",
        "#prediction\n",
        "yhat_lr == lr.predict( x_test)\n",
        "\n",
        "#performance\n",
        "lr_result = ml_error( 'Linear Regression', np.expm1( y_test), np.expm1(yhat_lr) )\n",
        "lr_result"
      ],
      "metadata": {
        "id": "7Q4qE-qHc5fq"
      },
      "execution_count": null,
      "outputs": []
    },
    {
      "cell_type": "markdown",
      "source": [
        "## 8.2.1 Linear Regression Model - Cross Validation"
      ],
      "metadata": {
        "id": "urS81JwTdz4L"
      }
    },
    {
      "cell_type": "code",
      "source": [
        "lr_result_cv = cross_validation( x_training, 5, 'Linear Regression', lr, verbose = False)\n",
        "lr_result_cv"
      ],
      "metadata": {
        "id": "unM2phJ7dzG0"
      },
      "execution_count": null,
      "outputs": []
    },
    {
      "cell_type": "markdown",
      "source": [
        "## 8.3.1 Lasso - Cross Validation"
      ],
      "metadata": {
        "id": "3IgaOETfedzZ"
      }
    },
    {
      "cell_type": "code",
      "source": [
        "lrr_result_cv = cross_validation( x_training, 5, 'Lasso', lrr, verbose = False )\n",
        "lrr_result_cv"
      ],
      "metadata": {
        "id": "vNoUN1K5fAWW"
      },
      "execution_count": null,
      "outputs": []
    },
    {
      "cell_type": "markdown",
      "source": [
        "## 8.4 Random Forest Regressor"
      ],
      "metadata": {
        "id": "ovFODJbhe_VM"
      }
    },
    {
      "cell_type": "code",
      "source": [
        "rf_result_cv = cross_validation( x_training, 5, 'Random Forest Regressor', rf, verbose =  True)\n",
        "\n",
        "rf_result_cv"
      ],
      "metadata": {
        "id": "OxVQ5MjtfoSJ"
      },
      "execution_count": null,
      "outputs": []
    },
    {
      "cell_type": "markdown",
      "source": [
        "## 8.5 XGBoost Regressor"
      ],
      "metadata": {
        "id": "j7CWESfGf77w"
      }
    },
    {
      "cell_type": "code",
      "source": [
        "# modjel\n",
        "\n",
        "model_xgb =  xgb.XGBRegressor( objective = 'reg:squarederror',\n",
        "                                n_estimators = 100,\n",
        "                               eta = 0.01,\n",
        "                               max_depth = 10,\n",
        "                               subsample = 0.7,\n",
        "                               colsample_bytee = 0.9).fit( x_train, y_train)\n",
        "\n",
        "# prediction\n",
        "\n",
        "yhat_xgb = model_xgb.predict( x_test )\n",
        "\n",
        "# performance\n",
        "\n",
        "xgb_result = ml_error( 'XGBoost Regressor', np.expm1( y_test ), np.expm1(yhat_xgb ) )\n",
        "xgb_result"
      ],
      "metadata": {
        "id": "U896niLZgCFo"
      },
      "execution_count": null,
      "outputs": []
    },
    {
      "cell_type": "markdown",
      "source": [
        "## XGBoost Regressor - Cross Validation"
      ],
      "metadata": {
        "id": "8XHfwb7ThTGC"
      }
    },
    {
      "cell_type": "code",
      "source": [
        "xgb_result_cv = cross_validation( x_training, 5, 'XGBoost Regressor', model_xgb, verbose=True)\n",
        "xgb_result_cv"
      ],
      "metadata": {
        "id": "2_tJ3rGEhfon"
      },
      "execution_count": null,
      "outputs": []
    },
    {
      "cell_type": "markdown",
      "source": [
        "## 8.6 Compare Model’s Performance"
      ],
      "metadata": {
        "id": "Y-Fu53Qfh2O3"
      }
    },
    {
      "cell_type": "markdown",
      "source": [
        "### 8.6.1  Single Performance"
      ],
      "metadata": {
        "id": "5isqT84WiGp2"
      }
    },
    {
      "cell_type": "code",
      "source": [
        "modelling_result = pd.concat( [baseline_result, lr_result, lrr_result, rf_result, xgb_result] )\n",
        "modelling_result.sort_values( 'RMSE' )"
      ],
      "metadata": {
        "id": "q1B11sMXiAs0"
      },
      "execution_count": null,
      "outputs": []
    },
    {
      "cell_type": "markdown",
      "source": [
        "### 8.6.2  Real Performance - Cross Validation"
      ],
      "metadata": {
        "id": "wrHxCfmnidpB"
      }
    },
    {
      "cell_type": "code",
      "source": [
        "modelling_result_cv = pd.concat( [lr_result_cv, lrr_result_cv, rf_result_cv, xgb_result_cv] )\n",
        "modelling_result_cv"
      ],
      "metadata": {
        "id": "qvMDoDHcihUb"
      },
      "execution_count": null,
      "outputs": []
    },
    {
      "cell_type": "markdown",
      "source": [
        "# 9.0 PASSO - HYPERPARAMETER FINE TUNING"
      ],
      "metadata": {
        "id": "wp2yr2PpnE-y"
      }
    },
    {
      "cell_type": "markdown",
      "source": [
        "## 9.1 Random Search"
      ],
      "metadata": {
        "id": "DNi79v3KoHh7"
      }
    },
    {
      "cell_type": "code",
      "source": [
        "#param = {\n",
        "# 'n_estimators': [1500, 1700, 2500, 3000, 3500],\n",
        "# 'eta': [0.01, 0.03],\n",
        "# 'max_depth': [3, 5, 9],\n",
        "# 'subsample': [0.1, 0.5, 0.7],\n",
        "# 'colsample_bytree': [0.3, 0.7, 0.9],\n",
        "# 'min_child_weight': [3, 8, 15]\n",
        "# }\n",
        "#\n",
        "#MAX_EVAL = 5"
      ],
      "metadata": {
        "id": "dEXkHwAHnTTK"
      },
      "execution_count": null,
      "outputs": []
    },
    {
      "cell_type": "code",
      "source": [
        "#final_result = pd.DataFrame()\n",
        "#\n",
        "#for i in range( MAX_EVAL ):\n",
        "    # # choose values for parameters randomly\n",
        "    # hp = { k: random.sample( v, 1 )[0] for k, v in param.items() }\n",
        "    # print( hp )\n",
        "    ##\n",
        "    # model\n",
        "    # model_xgb = xgb.XGBRegressor( objective='reg:squarederror',\n",
        "    # n_estimators=hp['n_estimators'],\n",
        "    # eta=hp['eta'],\n",
        "    # max_depth=hp['max_depth'],\n",
        "    # subsample=hp['subsample'],\n",
        "    # colsample_bytee=hp['colsample_bytree'],\n",
        "    # min_child_weight=hp['min_child_weight'] )\n",
        "    ##\n",
        "    # performance\n",
        "    # result = cross_validation( x_training, 5, 'XGBoost Regressor', model_xgb,֒!verbose=True )\n",
        "    # final_result = pd.concat( [final_result, result] )\n",
        "\n",
        "#final_result"
      ],
      "metadata": {
        "id": "eW0He9sUndL3"
      },
      "execution_count": null,
      "outputs": []
    },
    {
      "cell_type": "code",
      "source": [
        "#final_result"
      ],
      "metadata": {
        "id": "FtO22mwlnhmr"
      },
      "execution_count": null,
      "outputs": []
    },
    {
      "cell_type": "markdown",
      "source": [
        "## 9.2  Final Model"
      ],
      "metadata": {
        "id": "pMEPY2PUoEV9"
      }
    },
    {
      "cell_type": "markdown",
      "source": [
        "\n",
        "\n",
        "\n",
        "\"Encontrar o conjunto de parâmetros que maximiza o aprendizado do modelo.\"\n",
        "\n",
        "\n",
        "\n",
        "\n"
      ],
      "metadata": {
        "id": "da3qxUuwq3_5"
      }
    },
    {
      "cell_type": "code",
      "source": [
        "param_tuned = {\n",
        "'n_estimators': 3000,\n",
        "'eta': 0.03,\n",
        "'max_depth': 5,\n",
        "'subsample': 0.7,\n",
        "'colsample_bytree': 0.7,\n",
        "'min_child_weight': 3\n",
        "}"
      ],
      "metadata": {
        "id": "nCjueEWkoYg9"
      },
      "execution_count": null,
      "outputs": []
    },
    {
      "cell_type": "code",
      "source": [
        "# model\n",
        "model_xgb_tuned = xgb.XGBRegressor( objective='reg:squarederror',\n",
        "                                    n_estimators=param_tuned['n_estimators'],\n",
        "                                    eta=param_tuned['eta'],\n",
        "                                    max_depth=param_tuned['max_depth'],\n",
        "                                    subsample=param_tuned['subsample'],\n",
        "                                    colsample_bytee=param_tuned['colsample_bytree'],\n",
        "                                    min_child_weight=param_tuned['min_child_weight'] ).fit( x_train, y_train )\n",
        "# prediction\n",
        "yhat_xgb_tuned = model_xgb_tuned.predict( x_test )\n",
        "# performance\n",
        "xgb_result_tuned = ml_error( 'XGBoost Regressor', np.expm1( y_test ), np.expm1(yhat_xgb_tuned ) )\n",
        "xgb_result_tuned"
      ],
      "metadata": {
        "id": "V9FMp3yyoeYQ"
      },
      "execution_count": null,
      "outputs": []
    },
    {
      "cell_type": "markdown",
      "source": [
        "# 10 PASSO - TRADUÇÃO E INTERPRETAÇÃO DO ERRO"
      ],
      "metadata": {
        "id": "GWgaqCXdBtde"
      }
    },
    {
      "cell_type": "code",
      "source": [
        "df9 =  X_test[ cols_selected_boruto]"
      ],
      "metadata": {
        "id": "rn5ui2A0B3S-"
      },
      "execution_count": null,
      "outputs": []
    }
  ],
  "metadata": {
    "kernelspec": {
      "display_name": "Python 3 (ipykernel)",
      "language": "python",
      "name": "python3"
    },
    "language_info": {
      "codemirror_mode": {
        "name": "ipython",
        "version": 3
      },
      "file_extension": ".py",
      "mimetype": "text/x-python",
      "name": "python",
      "nbconvert_exporter": "python",
      "pygments_lexer": "ipython3",
      "version": "3.12.3"
    },
    "colab": {
      "provenance": [],
      "collapsed_sections": [
        "6X2NZ469wsyC"
      ],
      "toc_visible": true
    }
  },
  "nbformat": 4,
  "nbformat_minor": 0
}